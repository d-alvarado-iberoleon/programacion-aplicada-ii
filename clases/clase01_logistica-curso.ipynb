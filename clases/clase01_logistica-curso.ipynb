{
 "cells": [
  {
   "cell_type": "markdown",
   "id": "1525ff23",
   "metadata": {
    "slideshow": {
     "slide_type": "slide"
    }
   },
   "source": [
    "# Programación Aplicada II\n",
    "## Clase 01: Logística del curso\n",
    "### Primavera 2024\n",
    "\n",
    "#### Dra. Dora Alvarado\n",
    "* 27382@iberoleon.edu.mx \n",
    "* doraelisa.alvaradocarrillo@iberoleon.edu.mx\n",
    "\n"
   ]
  },
  {
   "cell_type": "markdown",
   "id": "ad3464a9",
   "metadata": {
    "slideshow": {
     "slide_type": "slide"
    }
   },
   "source": [
    "## Contenido\n",
    "\n",
    "- Logistica del curso\n",
    "    - Información de contacto\n",
    "    - Qué esperar y que NO esperar del curso\n",
    "    - Prerrequisitos\n",
    "    - Objetivos\n",
    "- Código de conducta\n",
    "    - Comunicación oficial 455\n",
    "- Forma de evaluación\n",
    "    - Calificaciones por parcial\n",
    "    - Ponderaciones sobre calificación final\n",
    "- Temario\n",
    "- Fechas importantes\n",
    "- Material de estudio"
   ]
  },
  {
   "cell_type": "markdown",
   "id": "6dfce5d1",
   "metadata": {
    "slideshow": {
     "slide_type": "slide"
    }
   },
   "source": [
    "## Logística del curso"
   ]
  },
  {
   "cell_type": "markdown",
   "id": "787576e8",
   "metadata": {
    "slideshow": {
     "slide_type": "subslide"
    }
   },
   "source": [
    "### Información de contacto\n",
    "\n",
    "- Instructora: Dora Alvarado\n",
    "- Puesto: Profesora de Asignatura en Universidad Iberoamericana León\n",
    "- Habilidades: Python, C\\C++, Java\n",
    "- Intereses: \n",
    "    - Ciencias de la Computación\n",
    "        - Inteligencia Artificial\n",
    "        - Procesamiento de Imágenes Biomédicas\n",
    "        - Análisis de Datos\n",
    "    - Matemáticas\n",
    "        - Álgebra Lineal\n",
    "        - Optimización \n",
    "        - Métodos Numéricos\n",
    "- Medios de contacto: \n",
    "    - Email: \n",
    "        - 27382@iberoleon.edu.mx \n",
    "        - doraelisa.alvaradocarrillo@iberoleon.edu.mx\n",
    "    - Teams"
   ]
  },
  {
   "cell_type": "markdown",
   "id": "bdfcec38",
   "metadata": {
    "hideCode": false,
    "slideshow": {
     "slide_type": "subslide"
    }
   },
   "source": [
    "\n",
    "### Qué esperar y qué no esperar del curso\n",
    "\n",
    "<div class=\"column\" style=\"margin-left:auto; margin-right:auto; width: 70%;\">\n",
    "    <h4 style=\"background-color:#FFB695;\">En esta clase NO aprenderemos:</h4>\n",
    "      <ul>\n",
    "        <li>Tipos de variables (enteros, flotantes, listas, tuplas, cadenas, etc)</li>\n",
    "        <li>Operadores (de asignación, aritméticos, relacionales, lógicos, etc)</li>\n",
    "        <li>Estructuras de control (if, while, for)</li>\n",
    "        <li>Funciones (incorporadas, definidas, anónimas)</li>\n",
    "      </ul>\n",
    "</div>\n"
   ]
  },
  {
   "cell_type": "markdown",
   "id": "5e5da10c",
   "metadata": {
    "slideshow": {
     "slide_type": "fragment"
    }
   },
   "source": [
    "<div class=\"column\" style=\"margin-left:auto; margin-right:auto; width: 70%;\">\n",
    "        <h4 style=\"background-color:#96D1CD; \">En esta clase SI aprenderemos:</h4>\n",
    "        <ul>\n",
    "            <li>Programación orientada a objetos (polimorfismo, herencia, abstracción, etc)</li>\n",
    "            <li>Buenas prácticas de desarrollo de software (Pruebas de software, debugging, complejidad)</li>\n",
    "            <li>Bibliotecas externas (numpy, matplotlib, pandas)</li>\n",
    "            <li>Algoritmos (con grafos, aleatorios, geométricos)</li>\n",
    "          </ul>\n",
    "</div>"
   ]
  },
  {
   "cell_type": "markdown",
   "id": "4a7307d3",
   "metadata": {
    "slideshow": {
     "slide_type": "subslide"
    }
   },
   "source": [
    "### Prerrequisitos\n",
    "\n",
    "- Prerequisitos: Programación Aplicada I\n",
    "- Conocimientos previos: Conceptos básicos de programación con Python, incluyendo variables, operadores, estructuras condicionales, estructuras de repetición, funciones, manejo de archivos y manejo de bibliotecas estándar de Python. \n",
    "\n"
   ]
  },
  {
   "cell_type": "markdown",
   "id": "13e3f1fb",
   "metadata": {
    "slideshow": {
     "slide_type": "subslide"
    }
   },
   "source": [
    "### Objetivos\n",
    "\n",
    "- Comprender y aplicar los conceptos fundamentales de Programación Orientada a Objetos con Python, incluyendo clases, objetos, constructores, encapsulamiento, y polimorfismo.\n",
    "- Aplicar principios del desarrollo de software como manejo de errores, aserciones, pruebas de software y debugging para mejorar la calidad y robustez del código.\n",
    "- Utilizar eficientemente bibliotecas externas como NumPy, Pandas y Matplotlib para análisis numérico, manipulación de datos y visualización.\n",
    "- Familiarizarse con algoritmos de grafos, aleatorios y geométricos, aplicando estos conocimientos a la resolución de problemas específicos.\n",
    "- Trabajar en proyectos de desarrollo de software de manera colaborativa, desarrollando habilidades de presentación y comunicación."
   ]
  },
  {
   "cell_type": "markdown",
   "id": "7295dfef",
   "metadata": {
    "slideshow": {
     "slide_type": "slide"
    }
   },
   "source": [
    "## Código de conducta\n",
    "\n",
    "Versión Resumida: \n",
    "\n",
    "<p style=\"background: #FCF3CF;\"><b>Cualquier indisciplina en el salón de clase implicará la salida del salón con falta y un reporte a la coordinación de la carrera.</b></p>\n"
   ]
  },
  {
   "cell_type": "markdown",
   "id": "c9c3f900",
   "metadata": {
    "slideshow": {
     "slide_type": "subslide"
    }
   },
   "source": [
    "Versión Extendida:\n",
    "\n",
    "- **Respeto mutuo.** Respetamos y valoramos las opiniones, experiencias y habilidades de todos en la clase. No toleramos el acoso, la discriminación o cualquier forma de comportamiento irrespetuoso.\n",
    "- **Uso de recursos.** Utiliza los recursos de la clase, incluidos materiales de lectura, códigos y ejemplos, de manera ética y responsable. \n",
    "  Se realizarán exclusivamente tareas relativas a la materia en el salón de clases. En caso de no cumplir esta regla, el alumno tendrá que salir del salón y se asignará una falta en dicha sesión.\n",
    "- **Puntualidad y responsabilidad.** Llega a tiempo a las clases (tolerancia de 10min) y cumple con las fechas límite establecidas para entregar tus trabajos. La responsabilidad personal es clave para el éxito en esta clase.\n",
    "- **Fechas de Exámenes.** No se aplicarán exámenes fuera de las fechas indicadas por ninguna razón. Es responsabilidad de cada estudiante planificar y prepararse para las evaluaciones programadas.\n",
    "- **Plagio y Trampas.** El plagio, incluyendo el uso no autorizado de código, es inaceptable. Las tareas deben basarse completamente en el trabajo propio del estudiante. \n",
    "  Se permite discutir técnicas generales de codificación y estrategias de resolución de problemas, pero está prohibido copiar, mirar el código de otra persona o permitir la copia. Violaciones a esta política resultarán en cero crédito para los problemas afectados. Violaciones continuas llevarán a acciones disciplinarias.\n"
   ]
  },
  {
   "cell_type": "markdown",
   "id": "8cc8e452",
   "metadata": {
    "slideshow": {
     "slide_type": "subslide"
    }
   },
   "source": [
    "<h2 style=\"color:red;\"> Comunicación Oficial No. 455: Lineamientos académicos sobre plagio y fraude</h2>\n",
    "\n",
    "<img src=\"./imgs/comunicado455-parte1.png\" alt=\"Plagio y fraude\" style=\"width:80%; margin-left:auto; margin-right:auto;\">"
   ]
  },
  {
   "cell_type": "markdown",
   "id": "957c5cf6",
   "metadata": {
    "slideshow": {
     "slide_type": "subslide"
    }
   },
   "source": [
    "<h2 style=\"color:red;\"> Comunicación Oficial No. 455: Lineamientos académicos sobre plagio y fraude</h2>\n",
    "\n",
    "<img src=\"./imgs/comunicado455-parte2.png\" alt=\"Plagio y fraude\" style=\"width:80%; margin-left:auto; margin-right:auto;\">"
   ]
  },
  {
   "cell_type": "markdown",
   "id": "c41440bb",
   "metadata": {
    "slideshow": {
     "slide_type": "subslide"
    }
   },
   "source": [
    "<h2 style=\"color:red;\"> Comunicación Oficial No. 455: Lineamientos académicos sobre plagio y fraude</h2>\n",
    "\n",
    "<img src=\"./imgs/comunicado455-parte3.png\" alt=\"Plagio y fraude\" style=\"width:80%; margin-left:auto; margin-right:auto;\">"
   ]
  },
  {
   "cell_type": "markdown",
   "id": "040dad45",
   "metadata": {
    "slideshow": {
     "slide_type": "slide"
    }
   },
   "source": [
    "## Forma de Evaluación\n",
    "\n",
    "<h3 style=\"background-color:#DFFF00; margin-left:auto; margin-right:auto; width: 70%;\">Calificaciones por parcial</h3>\n",
    "\n",
    "| Parcial | Trabajo en Clase | Quizzes | Tareas | Proyecto | Examen |\n",
    "|---------|------------------|---------|--------|----------|--------|\n",
    "| **1**   | 20%              | 20%     | 20%    | -        | 40%    |\n",
    "| **2**   | 20%              | 20%     | 20%    | -        | 40%    |\n",
    "| **3**   | 10%              | 10%     | 10%    | 35%      | 35%    |\n"
   ]
  },
  {
   "cell_type": "markdown",
   "id": "aee71636",
   "metadata": {
    "slideshow": {
     "slide_type": "fragment"
    }
   },
   "source": [
    "<h3 style=\"background-color:#DFFF00; margin-left:auto; margin-right:auto; width: 70%;\">Ponderación sobre la Calificación Final</h3>\n",
    "\n",
    "| Parcial | Ponderación sobre Calificación Final |\n",
    "|---------|-------------------------------------|\n",
    "| **1**   | 30%                                 |\n",
    "| **2**   | 30%                                 |\n",
    "| **3**   | 40%                                 |\n",
    "\n"
   ]
  },
  {
   "cell_type": "markdown",
   "id": "825148aa",
   "metadata": {
    "slideshow": {
     "slide_type": "slide"
    }
   },
   "source": [
    "## Temario (sujeto a cambios según sea necesario):\n",
    "\n",
    "<img src=\"./imgs/temario.png\" alt=\"Temario del curso\" style=\"width:85%; margin-left:auto; margin-right:auto;\">"
   ]
  },
  {
   "cell_type": "markdown",
   "id": "54329c17",
   "metadata": {
    "slideshow": {
     "slide_type": "subslide"
    }
   },
   "source": [
    "## Temario (sujeto a cambios según sea necesario):\n",
    "\n",
    "<table style=\"text-align: left; border-collapse: collapse;\">\n",
    "  <thead style=\"text-align: left;\">\n",
    "    <tr>\n",
    "      <th style=\"text-align: left;\">Semana</th>\n",
    "      <th style=\"text-align: left;\">Fechas</th>\n",
    "      <th style=\"text-align: left;\">Temas / Actividades</th>\n",
    "    </tr>\n",
    "  </thead>\n",
    "  <tbody>\n",
    "    <tr>\n",
    "      <td style=\"text-align: left;\">1</td>\n",
    "      <td style=\"text-align: left;\">Del 15 al 19 de enero</td>\n",
    "      <td style=\"text-align: left;\">Logística del curso<br>Repaso conceptos básicos de programación con Python</td>\n",
    "    </tr>\n",
    "    <tr>\n",
    "      <td style=\"text-align: left;\">2</td>\n",
    "      <td style=\"text-align: left;\">Del 22 al 26 de enero</td>\n",
    "      <td style=\"text-align: left;\">Clases, objetos, constructores<br><span style=\"background-color: #6495ED; color: #FFFFFF;\">Tarea 1</span></td>\n",
    "    </tr>\n",
    "    <tr>\n",
    "      <td style=\"text-align: left;\">3</td>\n",
    "      <td style=\"text-align: left;\">Del 29 de enero al 2 de febrero</td>\n",
    "      <td style=\"text-align: left;\">Encapsulamiento y polimorfismo</td>\n",
    "    </tr>\n",
    "    <tr>\n",
    "      <td style=\"text-align: left;\">4</td>\n",
    "      <td style=\"text-align: left;\">Del 5 al 9 de febrero</td>\n",
    "      <td style=\"text-align: left;\">Herencia y abstracción<br><span style=\"background-color: #6495ED; color: #FFFFFF;\">Tarea 2</span></td>\n",
    "    </tr>\n",
    "    <tr>\n",
    "      <td style=\"text-align: left;\">5</td>\n",
    "      <td style=\"text-align: left;\">Del 12 al 16 de febrero</td>\n",
    "      <td style=\"text-align: left;\">Repaso 1er Parcial<br><span style=\"background-color: #DFFF00; color: #000000;\">Examen</span></td>\n",
    "    </tr>\n",
    "    <tr>\n",
    "      <td style=\"text-align: left;\">6</td>\n",
    "      <td style=\"text-align: left;\">Del 19 al 23 de febrero</td>\n",
    "      <td style=\"text-align: left;\">Manejo de Excepciones y Aserciones</td>\n",
    "    </tr>\n",
    "    <tr>\n",
    "      <td style=\"text-align: left;\">7</td>\n",
    "      <td style=\"text-align: left;\">Del 26 de febrero al 1 de marzo</td>\n",
    "      <td style=\"text-align: left;\">Pruebas de Software y Debugging<br><span style=\"background-color: #6495ED; color: #FFFFFF;\">Tarea 3</span></td>\n",
    "    </tr>\n",
    "    <tr>\n",
    "      <td style=\"text-align: left;\">8</td>\n",
    "      <td style=\"text-align: left;\">Del 4 al 8 de marzo</td>\n",
    "      <td style=\"text-align: left;\">Complejidad Computacional</td>\n",
    "    </tr>\n",
    "    <tr>\n",
    "      <td style=\"text-align: left;\">9</td>\n",
    "      <td style=\"text-align: left;\">Del 11 al 15 de marzo</td>\n",
    "      <td style=\"text-align: left;\">Análisis numérico con numpy<br><span style=\"background-color: #6495ED; color: #FFFFFF;\">Tarea 4</span></td>\n",
    "    </tr>\n",
    "    <tr>\n",
    "      <td style=\"text-align: left;\">10</td>\n",
    "      <td style=\"text-align: left;\">Del 18 al 22 de marzo</td>\n",
    "      <td style=\"text-align: left;\">Repaso 2do Parcial<br><span style=\"background-color: #DFFF00; color: #000000;\">Examen</span></td>\n",
    "    </tr>\n",
    "      <tr>\n",
    "      <td style=\"text-align:left;\">-</td>\n",
    "      <td style=\"text-align:left;\">Del 25 al 29 de marzo</td>\n",
    "      <td style=\"text-align:left;\">Suspensión de labores</td>\n",
    "      <td style=\"text-align:left;\"></td>\n",
    "    </tr>\n",
    "    <tr>\n",
    "      <td style=\"text-align: left;\">11</td>\n",
    "      <td style=\"text-align: left;\">Del 1 al 5 de abril</td>\n",
    "      <td style=\"text-align: left;\">Análisis de datos con pandas y matplotlib<br>1ra Reunión Proyectos Finales (Sesión grupal, presentación de propuestas)</td>\n",
    "    </tr>\n",
    "    <tr>\n",
    "      <td style=\"text-align: left;\">12</td>\n",
    "      <td style=\"text-align: left;\">Del 8 al 12 de abril</td>\n",
    "      <td style=\"text-align: left;\">Algoritmos de Grafos<br><span style=\"background-color: #6495ED; color: #FFFFFF;\">Tarea 5</span></td>\n",
    "    </tr>\n",
    "    <tr>\n",
    "      <td style=\"text-align: left;\">13</td>\n",
    "      <td style=\"text-align: left;\">Del 15 al 19 de abril</td>\n",
    "      <td style=\"text-align: left;\">Algoritmos Aleatorios<br>2da Reunión Proyectos Finales (Revisión de avances por equipos, solución de dudas)</td>\n",
    "    </tr>\n",
    "    <tr>\n",
    "      <td style=\"text-align: left;\">14</td>\n",
    "      <td style=\"text-align: left;\">Del 22 al 26 de abril</td>\n",
    "      <td style=\"text-align: left;\">Algoritmos Geométricos<br><span style=\"background-color: #6495ED; color: #FFFFFF;\">Tarea 6</span></td>\n",
    "    </tr>\n",
    "    <tr>\n",
    "      <td style=\"text-align: left;\">15</td>\n",
    "      <td style=\"text-align: left;\">Del 29 de abril al 3 de mayo</td>\n",
    "      <td style=\"text-align: left;\">Repaso 3er Parcial<br><span style=\"background-color: #DFFF00; color: #000000;\">Examen</span></td>\n",
    "    </tr>\n",
    "    <tr>\n",
    "      <td style=\"text-align: left;\">16</td>\n",
    "      <td style=\"text-align: left;\">Del 6 al 10 de mayo</td>\n",
    "      <td style=\"text-align: left;\">3ra Reunión Proyectos Finales (Presentación de proyectos)</td>\n",
    "    </tr>\n",
    "  </tbody>\n",
    "</table>\n"
   ]
  },
  {
   "cell_type": "markdown",
   "id": "5497c4e4",
   "metadata": {
    "slideshow": {
     "slide_type": "slide"
    }
   },
   "source": [
    "## Fechas importantes\n",
    "\n",
    "| Evento                           | Fecha                 |\n",
    "|----------------------------------|----------------------|\n",
    "| INICIO DE SEMESTRE               | Martes 16 de Enero   |\n",
    "| Primer examen parcial             | Jueves 15 de Febrero |\n",
    "| Segundo examen parcial            | Jueves 21 de Marzo   |\n",
    "| Tercer examen parcial             | Jueves 2 de Mayo     |\n",
    "| Presentación de proyectos         | Lunes 6 de Mayo      |\n",
    "| Entrega de calificaciones finales | Jueves 9 de Mayo     |\n",
    "| FIN DE SEMESTRE                   | Viernes 10 de Mayo   |\n"
   ]
  },
  {
   "cell_type": "markdown",
   "id": "3525e99a",
   "metadata": {
    "slideshow": {
     "slide_type": "slide"
    }
   },
   "source": [
    "## Material de estudio\n",
    "\n",
    "| <img src=\"https://howtothink.readthedocs.io/en/latest/_images/thinkcspy.png\" alt=\"How to Think Like a Computer Scientist\" width=\"100\"/> | How to Think Like a Computer Scientist, 3rd Edition (Using Python 3.x) <br> Jeffrey Elkner, Peter Wentworth, Allen B. Downey, and Chris Meyers <br> Ilustrado por: Dario Mitchell <br> - **Link:** [How to Think Like a Computer Scientist](https://howtothink.readthedocs.io/en/latest/) |\n",
    "| --- | --- |\n",
    "| <img src=\"https://ellibrodepython.com/assets/images/el-libro-de-python.png\" alt=\"El Libro de Python\" width=\"100\"/> | El Libro de Python <br> - **Link:** [El Libro de Python](https://ellibrodepython.com/) |\n",
    "| --- | --- |\n",
    "| <img src=\"https://openlibrary.telkomuniversity.ac.id/uploads/book/cover/21.21.022.jpg\" alt=\"Introduction to Computation and Programming Using Python\" width=\"100\"/> | **Introduction to Computation and Programming Using Python, 3rd edition** <br> John V. Guttag <br> - **Link:** [Introduction to Computation and Programming Using Python](http://repo.darmajaya.ac.id/5070/1/Introduction%20to%20Computation%20and%20Programming%20Using%20Python%20by%20John%20V.%20Guttag%20%28z-lib.org%29.pdf) |\n",
    "| --- | --- |\n"
   ]
  }
 ],
 "metadata": {
  "celltoolbar": "Slideshow",
  "kernelspec": {
   "display_name": "Python 3 (ipykernel)",
   "language": "python",
   "name": "python3"
  },
  "language_info": {
   "codemirror_mode": {
    "name": "ipython",
    "version": 3
   },
   "file_extension": ".py",
   "mimetype": "text/x-python",
   "name": "python",
   "nbconvert_exporter": "python",
   "pygments_lexer": "ipython3",
   "version": "3.11.5"
  }
 },
 "nbformat": 4,
 "nbformat_minor": 5
}
