{
 "cells": [
  {
   "cell_type": "markdown",
   "id": "1525ff23",
   "metadata": {
    "slideshow": {
     "slide_type": "slide"
    }
   },
   "source": [
    "# Programación Aplicada II\n",
    "## Clase 03: Clases, objetos, constructores\n",
    "### Primavera 2024\n",
    "\n",
    "#### Dra. Dora Alvarado\n",
    "* 27382@iberoleon.edu.mx \n",
    "* doraelisa.alvaradocarrillo@iberoleon.edu.mx\n",
    "\n"
   ]
  },
  {
   "cell_type": "markdown",
   "id": "26853b86",
   "metadata": {
    "slideshow": {
     "slide_type": "slide"
    }
   },
   "source": [
    "## Temario \n",
    "\n",
    "<img src=\"./imgs/temario_s2.png\" alt=\"Temario del curso\" style=\"width:85%; margin-left:auto; margin-right:auto;\">"
   ]
  },
  {
   "cell_type": "markdown",
   "id": "ad3464a9",
   "metadata": {
    "slideshow": {
     "slide_type": "slide"
    }
   },
   "source": [
    "## Contenido\n",
    "\n",
    "- Introducción a la Programación Orientada a Objetos\n",
    "\t- Definición\n",
    "\t- Objetivos\n",
    "\t- Pilares\n",
    "- Clases y objetos\n",
    "    - ¿Qué es una clase?\n",
    "    - ¿Qué es un objeto?\n",
    "    - Ejemplos y analogías de clase y objeto\n",
    "- ¿Cómo crear una clase y un objeto en Python?\n",
    "    - Sintaxis\n",
    "    - ¿Qué es un constructor?\n"
   ]
  },
  {
   "cell_type": "markdown",
   "id": "35c6dc2b",
   "metadata": {
    "slideshow": {
     "slide_type": "slide"
    }
   },
   "source": [
    "## Introducción a la Programación Orientada a Objetos"
   ]
  },
  {
   "cell_type": "markdown",
   "id": "66777916",
   "metadata": {
    "slideshow": {
     "slide_type": "subslide"
    }
   },
   "source": [
    "\n",
    "<!--Existen muchos *paradigmas* (estilos genéricos) de programación:-->\n",
    "<h3 style=\"background-color:#DFFF00; margin-left:auto; margin-right:auto; width: 100%;\">Existen muchos <strong>paradigmas</strong> (estilos genéricos) de programación:</h3>\n",
    "<div></div>\n",
    "\n",
    "- Programación Estructurada\n",
    "- <span style=\"background-color:#faf4a0;\">Programación Orientada a Objetos</span>\n",
    "- Programación Lógica\n",
    "- Programación Funcional\n",
    "- Programación Declarativa\n",
    "- Programación Imperativa\n",
    "\n",
    "<h3 style=\"background-color:#DFFF00; margin-left:auto; margin-right:auto; width: 100%;\">(en el curso anterior estuvimos usando los paradigmas estructurado y funcional) </h3>\n",
    "<div></div>\n",
    "\n",
    "- los programas se ejecutan de forma secuencial (una instrucción tras otra)\n",
    "- lo único que puede desviar el flujo del programa son las estructuras condicionales, las estructuras de repetición o las funciones.\n",
    "\n",
    "<div style=\"width: 100%; height: 450px; overflow: hidden; align-items:center; justify-content: center; display:flex;\">\n",
    "    <img style=\"width: 55%; display: block; margin: auto\" src=\"https://edteam-media.s3.amazonaws.com/blogs/original/f1f62d2f-2403-4b53-8636-8d0fd31a319b.png\" alt=\"Your Image\">\n",
    "</div>\n",
    "\n",
    "*Imagen de [edteam-media.s3](https://ed.team/blog/que-son-los-paradigmas-de-programacion-f57de068-6426-4332-b5dd-dbdcff1aaaec)*\n",
    "\n",
    "<h3 style=\"background-color:#DFFF00; margin-left:auto; margin-right:auto; width: 100%;\">(en este curso abordaremos el paradigma orientado a objetos) </h3>"
   ]
  },
  {
   "cell_type": "markdown",
   "id": "3d8f8e67",
   "metadata": {
    "slideshow": {
     "slide_type": "slide"
    }
   },
   "source": [
    "## Programación Orientada a Objetos\n",
    "\n",
    "La **Programación Orientada a Objetos** es un paradigma  que consiste en **modelar sistemas a través de la creación de objetos que contienen atributos y métodos**. \n"
   ]
  },
  {
   "cell_type": "markdown",
   "id": "1564768f",
   "metadata": {
    "slideshow": {
     "slide_type": "subslide"
    }
   },
   "source": [
    "<h3 style=\"background-color:#DFFF00; margin-left:auto; margin-right:auto; width: 100%;\">Objetivos: </h3>\n",
    "\n",
    "- **Escalabilidad**: Facilitar el desarrollo de software robusto y adaptable a medida que el proyecto crece.\n",
    "\n",
    "- **Organización**: Mejorar el mantenimiento del software mediante la estructuración en clases, facilitando la comprensión y modificaciones.\n",
    "\n",
    "- **Agilidad**: Permitir la rápida incorporación de nuevas características y adaptaciones a través de una arquitectura flexible.\n",
    "\n",
    "- **Reutilización**: Aprovechar eficientemente el código existente mediante la modularidad y la herencia, reduciendo la duplicación y optimizando el desarrollo.\n",
    "\n",
    "- **Usabilidad**: Mejorar la experiencia general al modelar interfaces más intuitivas y coherentes con el uso de objetos y clases.\n"
   ]
  },
  {
   "cell_type": "markdown",
   "id": "4883b7d8",
   "metadata": {
    "slideshow": {
     "slide_type": "subslide"
    }
   },
   "source": [
    "<h3 style=\"background-color:#DFFF00; margin-left:auto; margin-right:auto; width: 100%;\">Pilares: </h3>\n",
    "\n",
    "Para cumplir los objetivos anteriores, se utilizan los siguientes conceptos, que explicaremos durante este primer parcial. \n",
    "\n",
    "1. **Abstracción:** Simplifica la representación de un objeto, centrándose en aspectos esenciales. Las clases actúan como modelos abstractos.\n",
    "\n",
    "2. **Encapsulamiento:** Oculta detalles internos, exponiendo solo interfaces necesarias. Mejora la seguridad y organización del código.\n",
    "\n",
    "3. **Polimorfismo:** Se refiere a la capacidad de objetos de diferentes clases de comportarse de manera uniforme cuando se trata con una interfaz común.\n",
    "\n",
    "4. **Herencia:** Permite crear nuevas clases basadas en clases existentes. Fomenta la reutilización de código y jerarquías de clases.\n",
    "\n",
    "| Abstracción | Encapsulamiento |\n",
    "|---------|---------|\n",
    "| ![mgs/abstraccion.png](imgs/abstraccion.png) | ![imgs/encapsulamiento.png](imgs/encapsulamiento.png) |\n",
    "| **Polimorfismo** | **Herencia** |\n",
    "| ![imgs/polimorfismo.jpeg](imgs/polimorfismo.jpeg) | ![imgs/herencia.png](imgs/herencia.png) |\n",
    "\n",
    "*Imágenes de los apuntes de [nlaredo.tecnm.mx](https://nlaredo.tecnm.mx/takeyas/Apuntes/POO/Apuntes/01.-%20Introduccion%20a%20la%20POO.pdf) y [stayfreemagazine.org](https://stayfreemagazine.org/polymorphism-explained-simply/)*"
   ]
  },
  {
   "cell_type": "markdown",
   "id": "61215078",
   "metadata": {
    "slideshow": {
     "slide_type": "slide"
    }
   },
   "source": [
    "## Clases y objetos\n",
    "\n",
    "Hasta ahora, hemos visto que Python ofrece distintos tipos de datos para crear variables (int, float, String, etc), pero también ofrece la posibilidad de crear nuestros propios tipos de datos para modelar conceptos más complejos. \n"
   ]
  },
  {
   "cell_type": "markdown",
   "id": "c78a06e6",
   "metadata": {
    "slideshow": {
     "slide_type": "fragment"
    }
   },
   "source": [
    "<h3 style=\"background-color:#DFFF00; margin-left:auto; margin-right:auto; width: 100%;\">¿Qué es una clase?</h3>\n",
    "\n",
    "- Es una plantilla para definir un tipo de dato compuesto por atributos (variables) y métodos (funciones/comportamientos).  \n"
   ]
  },
  {
   "cell_type": "markdown",
   "id": "d7601632",
   "metadata": {
    "slideshow": {
     "slide_type": "fragment"
    }
   },
   "source": [
    "<h3 style=\"background-color:#DFFF00; margin-left:auto; margin-right:auto; width: 100%;\">¿Qué es un Objeto?</h3>\n",
    "\n",
    "- Es un valor o variable cuyo tipo de dato es compuesto, es decir es elemento que tiene atributos y métodos.\n",
    "- Más técnicamente, un objeto es una instancia de una clase en la memoria del programa.\n",
    "\n"
   ]
  },
  {
   "cell_type": "markdown",
   "id": "e30db6f0",
   "metadata": {
    "slideshow": {
     "slide_type": "subslide"
    }
   },
   "source": [
    "<h3 style=\"background-color:#DFFF00; margin-left:auto; margin-right:auto; width: 100%;\">Algunos ejemplos y analogías</h3>\n"
   ]
  },
  {
   "cell_type": "markdown",
   "id": "72a296d4",
   "metadata": {
    "slideshow": {
     "slide_type": "fragment"
    }
   },
   "source": [
    "- Piensa en una clase como un cortador de galletas y en un objeto como una galleta en particular.\n",
    "\n",
    "<img src=\"./imgs/cortador-galleta.jpeg\" alt=\"OOP_Ejemplo1\" style=\"width:40%; margin-left:auto; margin-right:auto;\">\n",
    "\n",
    "*Imagen de [Twitter](https://x.com/Harry_Hashtag_/status/1385034516725583875?s=20)*"
   ]
  },
  {
   "cell_type": "markdown",
   "id": "c2d226c9",
   "metadata": {
    "slideshow": {
     "slide_type": "fragment"
    }
   },
   "source": [
    "- Otra manera de asociar los conceptos es pensar en una clase como un plano, y en un objeto como el elemento que ya se ha construido a partir de dicho plano. \n",
    "\n",
    "<img src=\"./imgs/class-blueprint.jpg\" alt=\"OOP_Ejemplo2\" style=\"width:60%; margin-left:auto; margin-right:auto;\">\n",
    "\n",
    "*Imagen de [codestall.wordpress.com](https://codestall.wordpress.com/2017/08/15/what-is-class-and-objects-in-java/)*"
   ]
  },
  {
   "cell_type": "markdown",
   "id": "d6c5adf2",
   "metadata": {
    "slideshow": {
     "slide_type": "fragment"
    }
   },
   "source": [
    "- Un ejemplo de clase puede ser la plantilla de perfil de Twitter. Los atributos que deben tener los perfiles son nombre, fotografía, biografía, número de seguidores, etc. Los métodos (o comportamientos) son postear, responder, reaccionar a una publicación, etc. \n",
    "\n",
    "<img src=\"./imgs/twitter-profile-template.png\" alt=\"OOP_Ejemplo3\" style=\"width:40%; margin-left:auto; margin-right:auto;\">\n",
    "\n",
    "*Imagen de [20f.comp110.com/](https://20f.comp110.com/static/slides/ls32-classes-conceptually.pdf)*"
   ]
  },
  {
   "cell_type": "markdown",
   "id": "3b6a93b2",
   "metadata": {
    "slideshow": {
     "slide_type": "fragment"
    }
   },
   "source": [
    "- Ejemplos de objetos de esta clase son perfiles ya creados en Twitter, con diferentes atributos (datos) dependiendo de cada persona u organización, aunque sus métodos (o acciones que pueden realizar) son los mismos.\n",
    "\n",
    "|   |   |   | \n",
    "|---------|---------|---------|\n",
    "| ![imgs/twitter-profile-1.png](imgs/twitter-profile-1.png) | ![imgs/twitter-profile-2.png](imgs/twitter-profile-2.png) | ![imgs/twitter-profile-3.png](imgs/twitter-profile-3.png) |\n",
    "\n"
   ]
  },
  {
   "cell_type": "markdown",
   "id": "ba72a505",
   "metadata": {
    "slideshow": {
     "slide_type": "slide"
    }
   },
   "source": [
    "## ¿Cómo crear una clase y un objeto en Python?"
   ]
  },
  {
   "cell_type": "markdown",
   "id": "82648423",
   "metadata": {
    "slideshow": {
     "slide_type": "fragment"
    }
   },
   "source": [
    "- Para crear una clase, se utiliza la palabra clave `class`, seguida del nombre de la clase y dos puntos. \n",
    "\n",
    "```python\n",
    "    class MiClase:\n",
    "        pass # pass no realiza ninguna acción, se usa para indicar que aquí pondremos más código en el futuro\n",
    "\n",
    "```\n"
   ]
  },
  {
   "cell_type": "markdown",
   "id": "70cbe98f",
   "metadata": {
    "slideshow": {
     "slide_type": "fragment"
    }
   },
   "source": [
    "\n",
    "- La creación de un objeto se realiza mediante la asignación de una instancia de la clase a una variable. Es decir, escribimos el nombre que tendrá el objeto a crear, el símbolo `=` y el nombre de la clase (tipo de dato del objeto) seguido de paréntesis. \n",
    "\n",
    "\n",
    "```python\n",
    "    mi_objeto = MiClase()\n",
    "```"
   ]
  },
  {
   "cell_type": "code",
   "execution_count": 1,
   "id": "b2e8a35b",
   "metadata": {
    "slideshow": {
     "slide_type": "fragment"
    }
   },
   "outputs": [
    {
     "name": "stdout",
     "output_type": "stream",
     "text": [
      "<class '__main__.Estudiante'>\n"
     ]
    }
   ],
   "source": [
    "## Ejemplo\n",
    "\n",
    "# Define una nueva clase (plantilla/tipo de dato/plano) llamada \"Estudiante\"\n",
    "class Estudiante:\n",
    "    pass\n",
    "\n",
    "# Crea un objeto de la clase \"Estudiante\"\n",
    "nuevo_estudiante = Estudiante()\n",
    "# Imprime su tipo de dato\n",
    "print(type(nuevo_estudiante)) # Imprime <class '__main__.Estudiante'>\n"
   ]
  },
  {
   "cell_type": "markdown",
   "id": "4fe74714",
   "metadata": {
    "slideshow": {
     "slide_type": "fragment"
    }
   },
   "source": [
    "...Por ahora la clase estudiante no tiene definidos atributos ni métodos"
   ]
  },
  {
   "cell_type": "markdown",
   "id": "450d48e2",
   "metadata": {
    "slideshow": {
     "slide_type": "slide"
    }
   },
   "source": [
    "## ¿Qué es un constructor?\n",
    "\n",
    "- Un <span style=\"background-color: #DFFF00\"><b>constructor</b></span> es un **método especial en una clase que se llama automáticamente cuando se crea un objeto** de esa clase. \n",
    "\n",
    "  *(un método es una función dentro de la clase)*\n",
    "\n",
    "- En Python, el constructor se llama `__init__` y se utiliza para inicializar los atributos del objeto. \n",
    "- El constructor puede tener cualquier número de parámetros, incluso ninguno. \n",
    "- Por ejemplo, en nuestra clase `Estudiante` podemos agregar algunos atributos (variables) que se crearán al crear un nuevo objeto."
   ]
  },
  {
   "cell_type": "code",
   "execution_count": 7,
   "id": "b39ce853",
   "metadata": {
    "slideshow": {
     "slide_type": "fragment"
    }
   },
   "outputs": [
    {
     "name": "stdout",
     "output_type": "stream",
     "text": [
      "<class '__main__.Estudiante'>\n"
     ]
    }
   ],
   "source": [
    "# Define una nueva clase (plantilla/tipo de dato/plano) llamada \"Estudiante\"\n",
    "class Estudiante:\n",
    "    def __init__(self, nombre, no_cuenta, asignaturas = []): # Constructor de la clase\n",
    "        self.nombre = nombre \n",
    "        self.no_cuenta = no_cuenta\n",
    "        self.asignaturas = asignaturas\n",
    "\n",
    "# Crea un objeto de la clase \"Estudiante\"\n",
    "estudiante1 = Estudiante(\"Ana\", \"192344-I\")\n",
    "\n",
    "# Imprime su tipo de dato\n",
    "print(type(estudiante1)) # Imprime <class '__main__.Estudiante'>"
   ]
  },
  {
   "cell_type": "markdown",
   "id": "0876650a",
   "metadata": {
    "slideshow": {
     "slide_type": "fragment"
    }
   },
   "source": [
    "<h3 style=\"background-color:#DFFF00; margin-left:auto; margin-right:auto; width: 100%;\">La palabra self</h3>\n",
    "\n",
    "- La palabra `self` se refiere al objeto que está siendo creado o manipulado dentro de los métodos de la clase. \n",
    "- Cuando se llama a un método de una clase, la instancia (objeto) en la que se invoca ese método se pasa automáticamente como el primer argumento, y se nombra convencionalmente como `self`.\n",
    "- Aunque `self` es solo una convención y podría llamarse de otra manera, su uso es altamente recomendado para mantener un código claro y fácil de entender."
   ]
  },
  {
   "cell_type": "markdown",
   "id": "c19d34fe",
   "metadata": {
    "slideshow": {
     "slide_type": "slide"
    }
   },
   "source": [
    "## ¿Qué son los atributos?\n",
    "\n",
    "- Son variables que pertenecen a un objeto específico de una clase.\n",
    "- Representan características o propiedades del objeto. \n",
    "- En Python, los atributos pueden ser de dos tipos principales: \n",
    "    - atributos de instancia\n",
    "    - atributos de clase.\n"
   ]
  },
  {
   "cell_type": "markdown",
   "id": "cdff4f2b",
   "metadata": {
    "slideshow": {
     "slide_type": "fragment"
    }
   },
   "source": [
    "<h3 style=\"background-color:#DFFF00; margin-left:auto; margin-right:auto; width: 100%;\">Atributos de Instancia</h3>\n",
    "\n",
    "- Son específicos de cada instancia de la clase.\n",
    "- Cada objeto tiene su propia copia del atributo de instancia.\n",
    "- Se definen dentro de los métodos de la clase: generalmente en el método __init__, utilizando el prefijo self.\n",
    "- *Ejemplo:*\n",
    "\n",
    "```python\n",
    "class Persona:\n",
    "    def __init__(self, nombre, edad):\n",
    "        self.nombre = nombre\n",
    "        self.edad = edad\n",
    "```"
   ]
  },
  {
   "cell_type": "markdown",
   "id": "11d70b78",
   "metadata": {
    "slideshow": {
     "slide_type": "fragment"
    }
   },
   "source": [
    "\n",
    "<h3 style=\"background-color:#DFFF00; margin-left:auto; margin-right:auto; width: 100%;\">Atributos de Clase</h3>\n",
    "\n",
    "- Son compartidos por todas las instancias de la clase.\n",
    "- Se definen fuera de cualquier método de la clase, generalmente al principio de la clase.\n",
    "- Se accede a través de la clase en lugar de a través de instancias individuales.\n",
    "- *Ejemplo:*\n",
    "\n",
    "```python\n",
    "class Vehiculo:\n",
    "    cantidad_vehiculos = 0   # Atributo de clase\n",
    "    \n",
    "    def __init__(self, marca, modelo):\n",
    "        self.marca = marca   # Atributo de instancia\n",
    "        self.modelo = modelo   # Atributo de instancia\n",
    "        Vehiculo.cantidad_vehiculos += 1   # Acceso al atributo de clase\n",
    "\n",
    "```"
   ]
  },
  {
   "cell_type": "markdown",
   "id": "8064f3c6",
   "metadata": {
    "slideshow": {
     "slide_type": "fragment"
    }
   },
   "source": [
    "<h3 style=\"background-color:#DFFF00; margin-left:auto; margin-right:auto; width: 100%;\">Volviendo al ejemplo de la clase Estudiante ...</h3>\n"
   ]
  },
  {
   "cell_type": "code",
   "execution_count": 11,
   "id": "b213c074",
   "metadata": {},
   "outputs": [
    {
     "name": "stdout",
     "output_type": "stream",
     "text": [
      "Ana\n",
      "192344-I\n",
      "[]\n",
      "2\n",
      "<class '__main__.Estudiante'>\n"
     ]
    }
   ],
   "source": [
    "# Define una nueva clase (plantilla/tipo de dato/plano) llamada \"Estudiante\"\n",
    "class Estudiante:\n",
    "    \n",
    "    total_estudiantes = 0  # Atributo de clase, para contar el total de objetos tipo Estudiante\n",
    "    \n",
    "    def __init__(self, nombre, no_cuenta, asignaturas = []): # Constructor de la clase, \"self\" representa la instancia actual \n",
    "        self.nombre = nombre # Atributo de instancia\n",
    "        self.no_cuenta = no_cuenta # Atributo de instancia\n",
    "        self.asignaturas = asignaturas\n",
    "        \n",
    "        Estudiante.total_estudiantes += 1\n",
    "\n",
    "estudiante1 = Estudiante(\"Ana\", \"192344-I\")\n",
    "otro_estudiante = Estudiante(\"Juan\", \"182621-M\")\n",
    "\n",
    "# Accede a los atributos del objeto estudiante1\n",
    "print(estudiante1.nombre)  # Imprime \"Ana\"\n",
    "print(estudiante1.no_cuenta)  # Imprime \"192344-I\"\n",
    "print(estudiante1.asignaturas) # Imprime []\n",
    "\n",
    "# Accede a los atributos de la clase\n",
    "print(Estudiante.total_estudiantes) # Imprime 2\n",
    "\n",
    "# Imprime su tipo de dato\n",
    "print(type(estudiante1)) # Imprime <class '__main__.Estudiante'>"
   ]
  },
  {
   "cell_type": "markdown",
   "id": "652f4e1b",
   "metadata": {},
   "source": [
    "**PREGUNTA: ¿Cómo imprimo los atributos del objeto `otro_estudiante`?**"
   ]
  },
  {
   "cell_type": "code",
   "execution_count": null,
   "id": "53273a4d",
   "metadata": {},
   "outputs": [],
   "source": []
  },
  {
   "cell_type": "markdown",
   "id": "62834a7e",
   "metadata": {
    "slideshow": {
     "slide_type": "slide"
    }
   },
   "source": [
    "## ¿Qué son los métodos?\n",
    "\n",
    "- Son **funciones que están definidas dentro de esa clase** y actúan sobre los atributos que pertenecen a la misma. \n",
    "- Representan acciones o comportamientos del objeto.\n",
    "- Hay tres diferentes tipos de métodos que puedes tener en una clase de Python:\n",
    "    - Métodos de instancia\n",
    "    - Métodos de clase\n",
    "    - Métodos estáticos\n",
    "    \n",
    "    "
   ]
  },
  {
   "cell_type": "markdown",
   "id": "81f4662d",
   "metadata": {
    "slideshow": {
     "slide_type": "subslide"
    }
   },
   "source": [
    "<h3 style=\"background-color:#DFFF00; margin-left:auto; margin-right:auto; width: 100%;\">Métodos de Instancia</h3>\n",
    "   \n",
    "- Se definen con el primer parámetro como `self`, que hace referencia a la instancia de la clase en sí.\n",
    "- Acceden y manipulan los atributos de la instancia.\n",
    "\n",
    "```python\n",
    "class Persona:\n",
    "    def __init__(self, nombre, edad):\n",
    "        self.nombre = nombre\n",
    "        self.edad = edad\n",
    "\n",
    "    def presentarse(self):\n",
    "        print(f\"Soy {self.nombre} y tengo {self.edad} años.\")\n",
    "        \n",
    "# Uso de métodos de instancia\n",
    "persona1 = Persona(\"Frida\", 30)\n",
    "persona1.presentarse()  # Salida: Soy Frida y tengo 30 años.\n",
    "```"
   ]
  },
  {
   "cell_type": "markdown",
   "id": "11ac7790",
   "metadata": {
    "slideshow": {
     "slide_type": "subslide"
    }
   },
   "source": [
    "<h3 style=\"background-color:#DFFF00; margin-left:auto; margin-right:auto; width: 100%;\">Métodos de clase:</h3>\n",
    "\n",
    "- Se definen con el decorador `@classmethod`.\n",
    "- El primer parámetro es la clase misma, por convención llamado `cls`.\n",
    "- Se utilizan para operaciones que involucran la clase en lugar de instancias individuales.\n",
    "\n",
    "```python\n",
    "import math\n",
    "\n",
    "class Circulo:\n",
    "    def __init__(self, radio):\n",
    "        self.radio = radio\n",
    "\n",
    "    def obtener_area(self):\n",
    "        return math.pi * self.radio**2\n",
    "\n",
    "    @classmethod\n",
    "    def crear_con_diametro(cls, diametro):\n",
    "        return cls(diametro/2)\n",
    "\n",
    "# Uso de método de clase\n",
    "circulo = Circulo.crear_con_diametro(5)\n",
    "```"
   ]
  },
  {
   "cell_type": "markdown",
   "id": "d83e2305",
   "metadata": {
    "slideshow": {
     "slide_type": "subslide"
    }
   },
   "source": [
    "<h3 style=\"background-color:#DFFF00; margin-left:auto; margin-right:auto; width: 100%;\">Métodos estáticos:</h3>\n",
    "\n",
    "- Se definen con el decorador `@staticmethod`.\n",
    "- No toman una referencia a la instancia (`self`) o la clase (`cls`) como primer parámetro.\n",
    "- Se pueden llamar en la clase, sin crear una instancia.\n",
    "\n",
    "```python\n",
    "class Calculadora:\n",
    "    @staticmethod\n",
    "    def sumar(a, b):\n",
    "        return a + b\n",
    "\n",
    "# Uso de métodos estáticos\n",
    "resultado_suma = Calculadora.sumar(5, 3)\n",
    "print(f\"Suma: {resultado_suma}\")  # Salida: Suma: 8\n",
    "```\n"
   ]
  },
  {
   "cell_type": "markdown",
   "id": "2fbf4324",
   "metadata": {
    "slideshow": {
     "slide_type": "subslide"
    }
   },
   "source": [
    "<h3 style=\"background-color:#DFFF00; margin-left:auto; margin-right:auto; width: 100%;\">Volviendo al ejemplo de la clase Estudiante ...</h3>\n"
   ]
  },
  {
   "cell_type": "code",
   "execution_count": null,
   "id": "ac9a80c5",
   "metadata": {
    "slideshow": {
     "slide_type": "fragment"
    }
   },
   "outputs": [],
   "source": [
    "class Estudiante:\n",
    "    total_estudiantes = 0  # Atributo de clase para contar el total de estudiantes\n",
    "\n",
    "    def __init__(self, nombre, no_cuenta, asignaturas=[]):\n",
    "        self.nombre = nombre\n",
    "        self.no_cuenta = no_cuenta\n",
    "        self.asignaturas = asignaturas\n",
    "        Estudiante.total_estudiantes += 1\n",
    "\n",
    "    def agregar_asignatura(self, asignatura):\n",
    "        self.asignaturas.append(asignatura)\n",
    "        print(f\"{self.nombre} ha agregado la asignatura {asignatura}.\")\n",
    "\n",
    "    @classmethod\n",
    "    def obtener_total_estudiantes(cls):\n",
    "        print(f\"Total de estudiantes: {cls.total_estudiantes}\")\n",
    "\n",
    "    @staticmethod\n",
    "    def validar_edad(edad):\n",
    "        return edad >= 18\n",
    "\n",
    "# Uso de la clase Estudiante\n",
    "estudiante1 = Estudiante(\"Juan\", 209812-1, [\"Análisis numérico\", \"Probabilidad y Estadística\"])\n",
    "estudiante2 = Estudiante(\"Ana\", 191102-5, [\"Química\", \"Álgebra Lineal\"])\n",
    "\n",
    "# Métodos de instancia\n",
    "estudiante1.agregar_asignatura(\"Física\")  # Salida: Juan ha agregado la asignatura Física.\n",
    "\n",
    "# Métodos de clase\n",
    "Estudiante.obtener_total_estudiantes()  # Salida: Total de estudiantes: 2\n",
    "\n",
    "# Métodos estáticos\n",
    "print(Estudiante.validar_edad(20))  # Salida: True\n",
    "print(Estudiante.validar_edad(16))  # Salida: False\n"
   ]
  },
  {
   "cell_type": "markdown",
   "id": "13f90c29",
   "metadata": {
    "slideshow": {
     "slide_type": "slide"
    }
   },
   "source": [
    "## Ejercicio: Vector3D\n",
    "\n",
    "### Descripción:\n",
    "\n",
    "- Diseña una clase llamada `Vector3D` que represente vectores tridimensionales en el espacio. Cada vector tiene componentes $x$, $y$ y $z$. Además, debes crear un atributo para llevar el registro del total de vectores creados.\n",
    "- La clase debe proporcionar funcionalidades para realizar operaciones básicas de vectores (suma, producto punto, distancia). Además, implementa un método estático para obtener un vector cero.\n",
    "- Crea al menos dos instancias de la clase `Vector3D` con diferentes valores para $x$, $y$ y $z$ y realiza operaciones de suma, distancia y producto punto entre los vectores y muestra los resultados.\n",
    "\n",
    "### Preguntas\n",
    "De acuerdo con el código que creaste:\n",
    "- ¿Cuales son los atributos de instancia y de clase?\n",
    "- ¿Cúales son los métodos de instancia, de clase y estáticos?\n",
    "- ¿Cómo se crea una instancia de la clase?\n",
    "- ¿Qué atributos y/o métodos podrías agregar a la clase para aumentar su funcionalidad?"
   ]
  },
  {
   "cell_type": "markdown",
   "id": "2b02ed75",
   "metadata": {
    "slideshow": {
     "slide_type": "skip"
    }
   },
   "source": [
    "## Referencias \n",
    "\n",
    "**Título:** Python 3 Object-oriented Programming (Second Edition)\n",
    "<br>**Autor:** Dusty Phillips\n",
    "<br>**Link:** [Python 3 Object-oriented Programming (Second Edition)](https://library.kre.dp.ua/Books/2-4%20kurs/%D0%9F%D1%80%D0%BE%D0%B3%D1%80%D0%B0%D0%BC%D1%83%D0%B2%D0%B0%D0%BD%D0%BD%D1%8F%20%2B%20%D0%BC%D0%BE%D0%B2%D0%B8%20%D0%BF%D1%80%D0%BE%D0%B3%D1%80%D0%B0%D0%BC%D1%83%D0%B2%D0%B0%D0%BD%D0%BD%D1%8F/Python/Python_3_Object_Oriented_Programming.pdf)  \n",
    "\n",
    "---\n",
    "\n",
    "**Título:** Classes and Objects\n",
    "<br>**Autor:** Kris Jordan\n",
    "<br>**Link:** [Classes and Objects](https://20f.comp110.com/static/slides/ls32-classes-conceptually.pdf)\n",
    "\n",
    "---\n",
    "\n"
   ]
  },
  {
   "cell_type": "code",
   "execution_count": 13,
   "id": "1457074f",
   "metadata": {
    "hideCode": true,
    "hideOutput": true,
    "hidePrompt": true,
    "slideshow": {
     "slide_type": "skip"
    }
   },
   "outputs": [
    {
     "name": "stdout",
     "output_type": "stream",
     "text": [
      "C:\\Users\\alvaradocde\\Documents\\2024\\ibero\\programacion-aplicada-II\\clases\\clase03_clases-objetos-constructores.html\n"
     ]
    }
   ],
   "source": [
    "import os\n",
    "from pyhtml2pdf import converter\n",
    "\n",
    "path = os.path.abspath('clase03_clases-objetos-constructores.html')\n",
    "print(path)\n",
    "converter.convert(f'file:///{path}', 'clase03_clases-objetos-constructores.pdf')"
   ]
  }
 ],
 "metadata": {
  "celltoolbar": "Hide code",
  "kernelspec": {
   "display_name": "Python 3 (ipykernel)",
   "language": "python",
   "name": "python3"
  },
  "language_info": {
   "codemirror_mode": {
    "name": "ipython",
    "version": 3
   },
   "file_extension": ".py",
   "mimetype": "text/x-python",
   "name": "python",
   "nbconvert_exporter": "python",
   "pygments_lexer": "ipython3",
   "version": "3.11.5"
  },
  "livereveal": {
   "autolaunch": true,
   "enable_chalkboard": true,
   "scroll": true
  }
 },
 "nbformat": 4,
 "nbformat_minor": 5
}
