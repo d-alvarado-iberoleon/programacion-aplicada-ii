{
 "cells": [
  {
   "cell_type": "markdown",
   "id": "1525ff23",
   "metadata": {
    "slideshow": {
     "slide_type": "slide"
    }
   },
   "source": [
    "# Programación Aplicada II\n",
    "## Clase 02: Repaso de Python\n",
    "### Primavera 2024\n",
    "\n",
    "#### Dra. Dora Alvarado\n",
    "* 27382@iberoleon.edu.mx \n",
    "* doraelisa.alvaradocarrillo@iberoleon.edu.mx\n",
    "\n"
   ]
  },
  {
   "cell_type": "markdown",
   "id": "2f74837a",
   "metadata": {
    "slideshow": {
     "slide_type": "slide"
    }
   },
   "source": [
    "## Temario \n",
    "\n",
    "<img src=\"./imgs/temario_s1.png\" alt=\"Temario del curso\" style=\"width:85%; margin-left:auto; margin-right:auto;\">"
   ]
  },
  {
   "cell_type": "markdown",
   "id": "269e1985",
   "metadata": {
    "slideshow": {
     "slide_type": "slide"
    }
   },
   "source": [
    "## Contenido\n",
    "\n",
    "- ¿Por qué Python?\n",
    "- Configuración\n",
    "    - Versión\n",
    "    - Instalación\n",
    "    - Entorno de Desarrollo\n",
    "- Lo básico de Python\n",
    "    - Variables y tipos de datos\n",
    "    - Operadores\n",
    "    - Entrada y salidad de datos\n",
    "    - Estructura condicional\n",
    "    - Ciclos\n",
    "    - Estructura de un programa\n",
    "- Ejercicios\n"
   ]
  },
  {
   "cell_type": "markdown",
   "id": "ed48e394",
   "metadata": {
    "slideshow": {
     "slide_type": "slide"
    }
   },
   "source": [
    "## ¿Por qué Python?"
   ]
  },
  {
   "cell_type": "markdown",
   "id": "5436b718",
   "metadata": {
    "slideshow": {
     "slide_type": "subslide"
    }
   },
   "source": [
    "- [Respuesta informal](https://x.com/rajeev_inr/status/1740681973801300169?s=20): \n"
   ]
  },
  {
   "cell_type": "code",
   "execution_count": 3,
   "id": "876cb01a",
   "metadata": {
    "hideCode": true,
    "hidePrompt": true
   },
   "outputs": [
    {
     "data": {
      "text/html": [
       "<blockquote class=\"twitter-tweet\" data-media-max-width=\"60%\"><p lang=\"en\" dir=\"ltr\">Simplicity of <a href=\"https://twitter.com/hashtag/python?src=hash&amp;ref_src=twsrc%5Etfw\">#python</a> <a href=\"https://t.co/mrZi6u7bEK\">pic.twitter.com/mrZi6u7bEK</a></p>&mdash; Rajeev Sharma  (@rajeev_inr) <a href=\"https://twitter.com/rajeev_inr/status/1740681973801300169?ref_src=twsrc%5Etfw\">December 29, 2023</a></blockquote> <script async src=\"https://platform.twitter.com/widgets.js\" charset=\"utf-8\"></script>\n"
      ],
      "text/plain": [
       "<IPython.core.display.HTML object>"
      ]
     },
     "metadata": {},
     "output_type": "display_data"
    }
   ],
   "source": [
    "\n",
    "%%html\n",
    "<blockquote class=\"twitter-tweet\" data-media-max-width=\"60%\"><p lang=\"en\" dir=\"ltr\">Simplicity of <a href=\"https://twitter.com/hashtag/python?src=hash&amp;ref_src=twsrc%5Etfw\">#python</a> <a href=\"https://t.co/mrZi6u7bEK\">pic.twitter.com/mrZi6u7bEK</a></p>&mdash; Rajeev Sharma  (@rajeev_inr) <a href=\"https://twitter.com/rajeev_inr/status/1740681973801300169?ref_src=twsrc%5Etfw\">December 29, 2023</a></blockquote> <script async src=\"https://platform.twitter.com/widgets.js\" charset=\"utf-8\"></script>"
   ]
  },
  {
   "cell_type": "markdown",
   "id": "29783fc9",
   "metadata": {
    "slideshow": {
     "slide_type": "subslide"
    }
   },
   "source": [
    "- [Respuesta *ligeramente* más formal](https://www.youtube.com/embed/vv1VyEwvC6c?si=wr-zY4QORcwF9zOV): "
   ]
  },
  {
   "cell_type": "code",
   "execution_count": 5,
   "id": "8df91d47",
   "metadata": {
    "hideCode": true,
    "hidePrompt": true,
    "slideshow": {
     "slide_type": "-"
    }
   },
   "outputs": [
    {
     "data": {
      "text/html": [
       "<iframe width=\"400\" height=\"400\" src=\"https://www.youtube.com/embed/vv1VyEwvC6c?si=wr-zY4QORcwF9zOV\" frameborder=\"0\" allowfullscreen></iframe>\n"
      ],
      "text/plain": [
       "<IPython.core.display.HTML object>"
      ]
     },
     "metadata": {},
     "output_type": "display_data"
    }
   ],
   "source": [
    "\n",
    "%%html\n",
    "<iframe width=\"400\" height=\"400\" src=\"https://www.youtube.com/embed/vv1VyEwvC6c?si=wr-zY4QORcwF9zOV\" frameborder=\"0\" allowfullscreen></iframe>"
   ]
  },
  {
   "cell_type": "markdown",
   "id": "a10eb9bb",
   "metadata": {
    "slideshow": {
     "slide_type": "subslide"
    }
   },
   "source": [
    "\n",
    "<img src=\"https://www.megatrend.com/wp-content/uploads/2022/03/Slika1_usporedba_sintakse-1.png\" alt=\"Comparación de Sintaxis, imagen tomada del sitio megatrend.com\" style=\"width:70%; margin-left:auto; margin-right:auto;\">\n",
    "\n",
    "*Imagen obtenida de [megratrend.com](https://www.megatrend.com/wp-content/uploads/2022/03/Slika1_usporedba_sintakse-1.png)*"
   ]
  },
  {
   "cell_type": "markdown",
   "id": "a108b1be",
   "metadata": {
    "slideshow": {
     "slide_type": "subslide"
    }
   },
   "source": [
    "<img src=\"https://cdn.hackr.io/uploads/posts/attachments/1691659103EqrCAr4xSr.webp\" alt=\"Aplicaciones de Python, imagen tomada del sitio hackr.io\" style=\"width:80%; margin-left:auto; margin-right:auto;\">\n",
    "\n",
    "*Imagen obtenida de [cdn.hackr.io](https://cdn.hackr.io/uploads/posts/attachments/1691659103EqrCAr4xSr.webp)*\n"
   ]
  },
  {
   "cell_type": "markdown",
   "id": "3b51cb5e",
   "metadata": {
    "slideshow": {
     "slide_type": "slide"
    }
   },
   "source": [
    "## ¿Por qué Python?\n",
    "\n",
    "- Es muy versátil, y bastante popular en los últimos años. \n",
    "- Es muy sencillo de utilizar y fácil de aprender (en comparación con otros lenguajes). \n",
    "- Es utilizado para cómputo científico y como una herramienta de enseñanza en muchos cursos universitarios. \n"
   ]
  },
  {
   "cell_type": "markdown",
   "id": "29ac2015",
   "metadata": {
    "slideshow": {
     "slide_type": "slide"
    }
   },
   "source": [
    "## Configuración\n",
    "\n"
   ]
  },
  {
   "cell_type": "markdown",
   "id": "ec4cf016",
   "metadata": {
    "slideshow": {
     "slide_type": "subslide"
    }
   },
   "source": [
    "## Versión\n",
    "\n",
    "- Utilizaremos Python 3.x, que ya debe estar instalado en las computadoras de esta aula a través de Anaconda (por favor verifiquen en sus computadoras que pueden iniciar la aplicación Anaconda Navigator).\n"
   ]
  },
  {
   "cell_type": "markdown",
   "id": "c21fac00",
   "metadata": {
    "slideshow": {
     "slide_type": "subslide"
    }
   },
   "source": [
    "## Instalación\n",
    "\n",
    "- Aunque una gran parte del trabajo del curso será realizada durante la hora de la clase, es **muy recomendable que instalen Python en sus computadoras personales**, pues hay tareas y proyectos para realizar en casa. \n",
    "\n",
    "- Una manera fácil de realizar la instalación es usar el gestor de paquetes/entornos virtuales de Python **Anaconda**:\n",
    "    - Descargar y ejecutar el instalador de: [https://www.anaconda.com/download/](https://www.anaconda.com/download/)\n",
    "    - Disponible para Windows, Linux, MacOS\n",
    "    - Puede crear y manejar diferentes ambientes virtuales. \n",
    "    \n",
    "    \n",
    "   "
   ]
  },
  {
   "cell_type": "markdown",
   "id": "176d0b8d",
   "metadata": {
    "slideshow": {
     "slide_type": "slide"
    }
   },
   "source": [
    "## Entornos de Desarrollo\n",
    "\n",
    "- **Recordatorio**: Un entorno de desarrollo (IDE, Integrated Development Environment) es una herramienta que proporciona un conjunto integrado de características para facilitar la creación, prueba y depuración de software. \n",
    "- Para Python, algunos IDEs populares son **PyCharm, Spyder y Visual Studio Code**. Cada estudiante es libre de seleccionar su IDE preferido, los ejercicios y tareas se entregaran en archivos con extensión *.py*. \n",
    "- **Para los ejemplos de clase se utilizará Spyder o el IDE disponible en ese momento.** \n"
   ]
  },
  {
   "cell_type": "markdown",
   "id": "4a797495",
   "metadata": {
    "slideshow": {
     "slide_type": "slide"
    }
   },
   "source": [
    "<h3 style=\"background-color:#DFFF00; margin-left:auto; margin-right:auto; width: 100%;\">TUTORIALES:</h3>\n",
    "\n",
    "- [Instala Anaconda en Windows 11 (o Mac o Linux)](https://youtu.be/qKg4kkiICJE?si=4P4ARtsOP0FA8clS)\n",
    "\n",
    "- [Instalar PyCharm con PyCharm](https://youtu.be/roTSOa4s5gA?si=8efcqGt9rFNKi443)\n",
    "\n",
    "- [Instalar Python con Spyder](https://youtu.be/Gt68rsTvonc?si=cJkay2adkK2QLkr5)\n",
    "\n",
    "- [Instalar Python con VSCode](https://youtu.be/WcWiHtbX8jY?si=x2jObKradABzajId)\n",
    "    \n",
    "<h3 style=\"background-color:#DFFF00; margin-left:auto; margin-right:auto; width: 100%;\">DATO COMPLEMENTARIO:</h3>\n",
    "\n",
    "- Un **entorno (o ambiente) virtual de Python** es una herramienta que ayuda a gestionar las dependencias y las versiones de los paquetes de Python para un proyecto específico. \n",
    "- En lugar de instalar paquetes de Python directamente en el sistema global de Python, puedes **crear entornos virtuales separados para cada proyecto**. \n",
    "- Cada entorno virtual tiene su propio directorio de instalación de paquetes y su propio intérprete de Python, lo que permite que **los proyectos tengan dependencias específicas sin interferir entre sí**."
   ]
  },
  {
   "cell_type": "markdown",
   "id": "528bdc57",
   "metadata": {
    "slideshow": {
     "slide_type": "slide"
    }
   },
   "source": [
    "## Lo básico de Python\n"
   ]
  },
  {
   "cell_type": "markdown",
   "id": "0425fc94",
   "metadata": {
    "slideshow": {
     "slide_type": "slide"
    }
   },
   "source": [
    "## Variable\n",
    "\n",
    "<h3 style=\"background-color:#AEE8CA; margin-left:auto; margin-right:auto; width: 100%;\">Definición:</h3>\n",
    "\n",
    "- Es un espacio de almacenamiento nombrado que contiene un valor. \n",
    "- Se utiliza para representar información que puede cambiar durante la ejecución del programa.\n"
   ]
  },
  {
   "cell_type": "markdown",
   "id": "52d69710",
   "metadata": {
    "slideshow": {
     "slide_type": "fragment"
    }
   },
   "source": [
    "<h3 style=\"background-color:#6ACFC9; margin-left:auto; margin-right:auto; width: 100%;\">Componentes</h3>\n",
    "\n",
    "- **Identificador:** Es el nombre dado a la variable para referirse a ella en el código.\n",
    "- **Valor:** Es el contenido almacenado en la variable, que puede ser de diversos tipos.\n",
    "- **Tipo:** Define la naturaleza del dato que la variable puede almacenar (e.g., entero, flotante, cadena, booleano).\n"
   ]
  },
  {
   "cell_type": "markdown",
   "id": "f8593fcf",
   "metadata": {
    "slideshow": {
     "slide_type": "fragment"
    }
   },
   "source": [
    "<h3 style=\"background-color:#26B6C6; margin-left:auto; margin-right:auto; width: 100%;\">Tipos de datos</h3>\n",
    "\n",
    "- **Tipos de datos numéricos:**\n",
    "    - **int:** números enteros.\n",
    "    - **float:** números de punto flotante.\n",
    "    - **bool:** valores booleanos (True o False).\n",
    "- **Tipos de datos de secuencia:**\n",
    "    - **Listas:** Colección mutable y ordenada de elementos.\n",
    "    - **Tuplas:** Colección inmutable y ordenada de elementos.\n",
    "    - **Cadenas:** Secuencia inmutable de caracteres.\n",
    "- **Tipos de datos de mapeo:**\n",
    "     - **Diccionarios:** Colección no ordenada de pares clave-valor.\n",
    "- **None:**\n",
    "     - Es un valor especial en Python que representa la ausencia de un valor o un objeto nulo.\n"
   ]
  },
  {
   "cell_type": "markdown",
   "id": "519c9870",
   "metadata": {
    "slideshow": {
     "slide_type": "subslide"
    }
   },
   "source": [
    "## Ejemplos / Preguntas"
   ]
  },
  {
   "cell_type": "markdown",
   "id": "7779674e",
   "metadata": {
    "slideshow": {
     "slide_type": "subslide"
    }
   },
   "source": [
    "**¿Qué tipo de variable es?**\n",
    "\n",
    "```python\n",
    "nombre = \"Juan\"\n",
    "```\n"
   ]
  },
  {
   "cell_type": "markdown",
   "id": "6ab29f4a",
   "metadata": {
    "slideshow": {
     "slide_type": "subslide"
    }
   },
   "source": [
    "**¿Qué tipo de variable es?**\n",
    "\n",
    "```python\n",
    "es_mayor_de_edad = True\n",
    "```"
   ]
  },
  {
   "cell_type": "markdown",
   "id": "1e82f6d4",
   "metadata": {
    "slideshow": {
     "slide_type": "subslide"
    }
   },
   "source": [
    "**¿Qué tipo de variable es?**\n",
    "```python\n",
    "precio = 45.99\n",
    "```"
   ]
  },
  {
   "cell_type": "markdown",
   "id": "1caca55b",
   "metadata": {
    "slideshow": {
     "slide_type": "subslide"
    }
   },
   "source": [
    "**¿Qué tipo de variable es?**\n",
    "```python\n",
    "numeros = [1, 2, 3, 4, 5]\n",
    "```"
   ]
  },
  {
   "cell_type": "markdown",
   "id": "281c5284",
   "metadata": {
    "slideshow": {
     "slide_type": "fragment"
    }
   },
   "source": [
    "**¿Cómo imprimirías el tercer elemento de la lista `numeros`?**"
   ]
  },
  {
   "cell_type": "code",
   "execution_count": null,
   "id": "d3b34914",
   "metadata": {},
   "outputs": [],
   "source": []
  },
  {
   "cell_type": "markdown",
   "id": "b535c466",
   "metadata": {
    "slideshow": {
     "slide_type": "fragment"
    }
   },
   "source": [
    "**¿Cómo se podría modificar el contenido de la lista `numeros`?**"
   ]
  },
  {
   "cell_type": "code",
   "execution_count": null,
   "id": "1f794376",
   "metadata": {},
   "outputs": [],
   "source": []
  },
  {
   "cell_type": "markdown",
   "id": "da4a45d6",
   "metadata": {
    "slideshow": {
     "slide_type": "subslide"
    }
   },
   "source": [
    "**¿Qué tipo de variable es?**\n",
    "```python\n",
    "estudiantes = {\"001\": \"Ana\", \"002\": \"Carlos\"}\n",
    "```"
   ]
  },
  {
   "cell_type": "markdown",
   "id": "c61a014e",
   "metadata": {
    "slideshow": {
     "slide_type": "fragment"
    }
   },
   "source": [
    "**¿Qué error podrías encontrar al intentar acceder a una clave que no existe en un diccionario?**"
   ]
  },
  {
   "cell_type": "code",
   "execution_count": null,
   "id": "8db24358",
   "metadata": {},
   "outputs": [],
   "source": []
  },
  {
   "cell_type": "markdown",
   "id": "4c21b098",
   "metadata": {
    "slideshow": {
     "slide_type": "subslide"
    }
   },
   "source": [
    "**¿Qué tipo de variable es?**\n",
    "```python\n",
    "edad = 25\n",
    "```"
   ]
  },
  {
   "cell_type": "markdown",
   "id": "f5170ec4",
   "metadata": {
    "slideshow": {
     "slide_type": "fragment"
    }
   },
   "source": [
    "**¿Qué sucede si intentas sumar un número entero con una cadena?**"
   ]
  },
  {
   "cell_type": "code",
   "execution_count": null,
   "id": "96992314",
   "metadata": {},
   "outputs": [],
   "source": []
  },
  {
   "cell_type": "markdown",
   "id": "4c5aa39a",
   "metadata": {
    "slideshow": {
     "slide_type": "subslide"
    }
   },
   "source": [
    "**¿Qué tipo de variable es?**\n",
    "```python\n",
    "valor = None\n",
    "```"
   ]
  },
  {
   "cell_type": "markdown",
   "id": "c2d66785",
   "metadata": {
    "slideshow": {
     "slide_type": "fragment"
    }
   },
   "source": [
    "**¿Cómo puedes comprobar si una variable contiene un valor nulo en Python?**"
   ]
  },
  {
   "cell_type": "code",
   "execution_count": null,
   "id": "eac840ca",
   "metadata": {},
   "outputs": [],
   "source": []
  },
  {
   "cell_type": "markdown",
   "id": "18781906",
   "metadata": {
    "slideshow": {
     "slide_type": "subslide"
    }
   },
   "source": [
    "**¿Qué tipo de variable es?**\n",
    "```python\n",
    "colores = (\"rojo\", \"verde\", \"azul\")\n",
    "```"
   ]
  },
  {
   "cell_type": "markdown",
   "id": "c65058b6",
   "metadata": {
    "slideshow": {
     "slide_type": "fragment"
    }
   },
   "source": [
    "**¿Qué ocurre si intentas modificar una tupla después de haberla creado?**"
   ]
  },
  {
   "cell_type": "code",
   "execution_count": null,
   "id": "0115bad7",
   "metadata": {},
   "outputs": [],
   "source": []
  },
  {
   "cell_type": "markdown",
   "id": "8996b737",
   "metadata": {
    "slideshow": {
     "slide_type": "slide"
    }
   },
   "source": [
    "## Operadores\n",
    "\n",
    "<h3 style=\"background-color:#85A0F2; margin-left:auto; margin-right:auto; width: 100%;\">Definición:</h3>\n",
    "\n",
    "   - Son símbolos especiales que realizan operaciones en uno o más operandos. Los operandos pueden ser variables, valores o expresiones.\n"
   ]
  },
  {
   "cell_type": "markdown",
   "id": "f54857ab",
   "metadata": {
    "slideshow": {
     "slide_type": "fragment"
    }
   },
   "source": [
    "<h3 style=\"background-color:#B6C5F2; margin-left:auto; margin-right:auto; width: 100%;\">Tipos de Operadores:</h3>\n",
    "\n",
    " - **Aritméticos:** Realizan operaciones matemáticas.\n",
    "   - `+` (suma), `-` (resta), `*` (multiplicación), `/` (división), `//` (división entera), `%` (módulo o residuo), `**` (exponenciación).\n",
    "   \n",
    "   - Ejemplos:\n",
    "   ```python\n",
    "    a = 10\n",
    "    b = 3\n",
    "    suma = a + b\n",
    "    resta = a - b\n",
    "    multiplicacion = a * b\n",
    "    division = a / b\n",
    "    division_entera = a // b\n",
    "    modulo = a % b\n",
    "    exponenciacion = a ** b\n",
    "    ```"
   ]
  },
  {
   "cell_type": "markdown",
   "id": "b203355b",
   "metadata": {
    "slideshow": {
     "slide_type": "fragment"
    }
   },
   "source": [
    " - **De Asignación:** Asignan valores a variables.\n",
    "   - `=` (asignación simple), `+=` (suma y asignación), `-=` (resta y asignación), `*=` (multiplicación y asignación), `/=` (división y asignación), `//=` (división entera y asignación), `%=`(módulo y asignación), `**=`(exponenciación y asignación).\n",
    "   - Ejemplo:\n",
    "   ```python\n",
    "   x = 5\n",
    "   x += 3  # Equivalente a x = x + 3\n",
    "   ```"
   ]
  },
  {
   "cell_type": "markdown",
   "id": "0e5a0fd1",
   "metadata": {
    "slideshow": {
     "slide_type": "fragment"
    }
   },
   "source": [
    " - **Relacionales:** Comparan valores y devuelven un resultado booleano.\n",
    "   - `==` (igual a), `!=` (no igual a), `<` (menor que), `>` (mayor que), `<=` (menor o igual a), `>=` (mayor o igual a).\n",
    "   - Ejemplo:\n",
    "   ```python\n",
    "   a = 10\n",
    "   b = 3\n",
    "   resultado = (a > b)  # True, ya que 10 es mayor que 3\n",
    "   ```"
   ]
  },
  {
   "cell_type": "markdown",
   "id": "97630fb5",
   "metadata": {
    "slideshow": {
     "slide_type": "fragment"
    }
   },
   "source": [
    " - **Lógicos:** Realizan operaciones lógicas en valores booleanos.\n",
    "   - `and` (y lógico), `or` (o lógico), `not` (no lógico).\n",
    "   - Ejemplos:\n",
    "   ```python\n",
    "    a = 10\n",
    "    b = 3\n",
    "    condicion1 = (a > b) and (b != 0)  # True, ambas condiciones son verdaderas\n",
    "    condicion2 = (a < b) or (b == 0)   # False, ninguna condición es verdadera\n",
    "   ```"
   ]
  },
  {
   "cell_type": "markdown",
   "id": "e8d990ff",
   "metadata": {
    "slideshow": {
     "slide_type": "fragment"
    }
   },
   "source": [
    " - **De Membresía:** Verifican si un valor está presente en una secuencia.\n",
    "   - `in` (está en), `not in` (no está en).\n",
    "   - Ejemplos:\n",
    "   ```python\n",
    "    lista = [1, 2, 3, 4, 5]\n",
    "    pertenece = 3 in lista  # True, ya que 3 está en la lista\n",
    "    no_pertenece = 6 not in lista  # True, ya que 6 no está en la lista\n",
    "   ```"
   ]
  },
  {
   "cell_type": "markdown",
   "id": "592c8fc2",
   "metadata": {
    "slideshow": {
     "slide_type": "fragment"
    }
   },
   "source": [
    " - **De Identidad:** Verifican si dos variables se refieren al mismo objeto en la memoria.\n",
    "   - `is` (es), `is not` (no es).\n",
    "   - Ejemplos:\n",
    "   ```python\n",
    "    a = [1, 2, 3]\n",
    "    b = a  # b ahora apunta al mismo objeto que a\n",
    "    c = [1, 2, 3]  # un nuevo objeto con el mismo contenido que a\n",
    "\n",
    "    print(a is b)  # True, ya que b apunta al mismo objeto que a\n",
    "    print(a is c)  # False, ya que c es un objeto diferente con el mismo contenido que a\n",
    "    print(a is not c)  # True, ya que a y c no apuntan al mismo objeto\n",
    "   ```"
   ]
  },
  {
   "cell_type": "markdown",
   "id": "96b617db",
   "metadata": {
    "slideshow": {
     "slide_type": "subslide"
    }
   },
   "source": [
    "## Ejemplos / Preguntas"
   ]
  },
  {
   "cell_type": "markdown",
   "id": "026401ac",
   "metadata": {
    "slideshow": {
     "slide_type": "subslide"
    }
   },
   "source": [
    "\n",
    "**¿Cuál es la diferencia entre `=` y `==`?**"
   ]
  },
  {
   "cell_type": "markdown",
   "id": "f9f61a75",
   "metadata": {
    "slideshow": {
     "slide_type": "subslide"
    }
   },
   "source": [
    "**Sin usar calculadora ni Python, ¿Cuál es el resultado de la expresión `(5 + 3) * 2 / 4`?**"
   ]
  },
  {
   "cell_type": "code",
   "execution_count": null,
   "id": "eef8e17e",
   "metadata": {},
   "outputs": [],
   "source": []
  },
  {
   "cell_type": "markdown",
   "id": "b41bf414",
   "metadata": {
    "slideshow": {
     "slide_type": "subslide"
    }
   },
   "source": [
    "**Dado el código `x += 2`, ¿cuál es el valor final de la variable `x` si su valor inicial es 7?**"
   ]
  },
  {
   "cell_type": "code",
   "execution_count": null,
   "id": "6981d03e",
   "metadata": {},
   "outputs": [],
   "source": []
  },
  {
   "cell_type": "markdown",
   "id": "88b48ebb",
   "metadata": {
    "slideshow": {
     "slide_type": "fragment"
    }
   },
   "source": [
    "**¿Cómo podrías verificar si un número es par utilizando operadores relacionales y aritméticos?**\n"
   ]
  },
  {
   "cell_type": "code",
   "execution_count": null,
   "id": "0ffdc444",
   "metadata": {},
   "outputs": [],
   "source": []
  },
  {
   "cell_type": "markdown",
   "id": "17cad1b0",
   "metadata": {
    "slideshow": {
     "slide_type": "subslide"
    }
   },
   "source": [
    "**Si tienes una lista `numeros = [1, 2, 3, 4, 5]`, ¿cómo verificarías si el número 6 está presente en la lista?**"
   ]
  },
  {
   "cell_type": "code",
   "execution_count": null,
   "id": "fd038924",
   "metadata": {},
   "outputs": [],
   "source": []
  },
  {
   "cell_type": "markdown",
   "id": "be1095c2",
   "metadata": {
    "slideshow": {
     "slide_type": "subslide"
    }
   },
   "source": [
    "**¿Cómo utilizarías el operador ` ** ` para calcular la raíz cuadrada de un número?**"
   ]
  },
  {
   "cell_type": "code",
   "execution_count": null,
   "id": "89fc49dd",
   "metadata": {},
   "outputs": [],
   "source": []
  },
  {
   "cell_type": "markdown",
   "id": "fbd61eae",
   "metadata": {
    "slideshow": {
     "slide_type": "subslide"
    }
   },
   "source": [
    "**¿Qué sucede si intentas realizar una división entre cero en Python?**"
   ]
  },
  {
   "cell_type": "code",
   "execution_count": null,
   "id": "a7eb04ff",
   "metadata": {},
   "outputs": [],
   "source": []
  },
  {
   "cell_type": "markdown",
   "id": "cff0abcf",
   "metadata": {
    "slideshow": {
     "slide_type": "subslide"
    }
   },
   "source": [
    "**Dado un diccionario `persona = {\"nombre\": \"Juan\", \"edad\": 25}`, ¿cómo verificarías si la clave \"edad\" está presente?**"
   ]
  },
  {
   "cell_type": "markdown",
   "id": "5981617c",
   "metadata": {
    "slideshow": {
     "slide_type": "subslide"
    }
   },
   "source": [
    "**¿Cuál es la diferencia entre `is` y `==`?**"
   ]
  },
  {
   "cell_type": "markdown",
   "id": "a3dc038f",
   "metadata": {
    "slideshow": {
     "slide_type": "slide"
    }
   },
   "source": [
    "## Entrada y salida de datos\n"
   ]
  },
  {
   "cell_type": "markdown",
   "id": "6bb28345",
   "metadata": {
    "slideshow": {
     "slide_type": "subslide"
    }
   },
   "source": [
    "## Entrada y salida de Datos\n",
    "\n",
    "<h3 style=\"background-color:#E1F25C; margin-left:auto; margin-right:auto; width: 100%;\">Entrada de Datos</h3>\n",
    "    \n",
    "- La función `input()` se utiliza para obtener datos desde la entrada estándar (generalmente el teclado) y asignarlos a variables. \n",
    "- La entrada se toma como una cadena (`str`), por lo que a menudo es necesario convertirla al tipo de dato adecuado.\n",
    "- Ejemplo:\n",
    "   ```python\n",
    "    nombre = input(\"Ingrese su nombre: \")\n",
    "    edad = int(input(\"Ingrese su edad: \"))  # Convertir la entrada a entero\n",
    "   ```"
   ]
  },
  {
   "cell_type": "markdown",
   "id": "d06cd822",
   "metadata": {
    "slideshow": {
     "slide_type": "fragment"
    }
   },
   "source": [
    "<h3 style=\"background-color:#9FC131; margin-left:auto; margin-right:auto; width: 100%;\">Conversión de Tipos</h3>\n",
    "- La conversión de tipos, o type casting, se refiere a cambiar el tipo de dato de una variable a otro. Por ejemplo, convertir una cadena a un entero o viceversa.\n",
    "- Ejemplos:\n",
    "\n",
    "```python\n",
    "    edad = 25\n",
    "    edad_str = str(edad)  # Convertir entero a cadena\n",
    "```"
   ]
  },
  {
   "cell_type": "markdown",
   "id": "7b78849c",
   "metadata": {
    "slideshow": {
     "slide_type": "fragment"
    }
   },
   "source": [
    "<h3 style=\"background-color:#DBF227; margin-left:auto; margin-right:auto; width: 100%;\">Salida de Datos</h3>\n",
    "\n",
    "- La función `print()` se utiliza para mostrar información en la salida estándar (generalmente la consola). \n",
    "- Puede imprimir valores de variables, texto y realizar formateo básico.\n",
    "- Ejemplo: \n",
    "```python\n",
    "    nombre = \"Juan\"\n",
    "    edad = 30\n",
    "    print(\"Nombre:\", nombre, \"Edad:\", edad)\n",
    "```"
   ]
  },
  {
   "cell_type": "markdown",
   "id": "0c89bef6",
   "metadata": {
    "slideshow": {
     "slide_type": "subslide"
    }
   },
   "source": [
    "## Ejemplos / Preguntas"
   ]
  },
  {
   "cell_type": "markdown",
   "id": "31c51ee8",
   "metadata": {
    "slideshow": {
     "slide_type": "subslide"
    }
   },
   "source": [
    "**¿Cuál será la salida si el usuario ingresa \"3\"?**\n",
    "   ```python\n",
    "    x = input(\"Ingrese un número: \")\n",
    "    y = x * 2\n",
    "    print(y)\n",
    "   ```\n"
   ]
  },
  {
   "cell_type": "code",
   "execution_count": null,
   "id": "50110d41",
   "metadata": {},
   "outputs": [],
   "source": []
  },
  {
   "cell_type": "markdown",
   "id": "5e901543",
   "metadata": {
    "slideshow": {
     "slide_type": "subslide"
    }
   },
   "source": [
    "**¿Cuál será la salida de este código?**\n",
    "   ```python\n",
    "    a = \"5\"\n",
    "    b = int(a) + 2\n",
    "    c = str(b)\n",
    "    print(a + c)\n",
    "   ``` "
   ]
  },
  {
   "cell_type": "code",
   "execution_count": null,
   "id": "17a80e3e",
   "metadata": {},
   "outputs": [],
   "source": []
  },
  {
   "cell_type": "markdown",
   "id": "b2e95960",
   "metadata": {
    "slideshow": {
     "slide_type": "subslide"
    }
   },
   "source": [
    "**¿Qué tipo de error obtendrías al intentar ejecutar este código?**\n",
    "   ```python\n",
    "   num_str = \"abc\"\n",
    "   num_int = int(num_str)\n",
    "   ```"
   ]
  },
  {
   "cell_type": "code",
   "execution_count": null,
   "id": "fab8ee1b",
   "metadata": {},
   "outputs": [],
   "source": []
  },
  {
   "cell_type": "markdown",
   "id": "6e1bc24e",
   "metadata": {
    "slideshow": {
     "slide_type": "subslide"
    }
   },
   "source": [
    "**¿Cuál será el error en este código y cómo lo corregirías?**\n",
    "   ```python\n",
    "   edad = 25\n",
    "   print(\"Mi edad es: \" + edad)\n",
    "   ```"
   ]
  },
  {
   "cell_type": "code",
   "execution_count": null,
   "id": "0b1ac77b",
   "metadata": {},
   "outputs": [],
   "source": []
  },
  {
   "cell_type": "markdown",
   "id": "67939e59",
   "metadata": {
    "slideshow": {
     "slide_type": "slide"
    }
   },
   "source": [
    "## Flujo de ejecución "
   ]
  },
  {
   "cell_type": "markdown",
   "id": "3aa5b2d7",
   "metadata": {
    "slideshow": {
     "slide_type": "slide"
    }
   },
   "source": [
    "<h3 style=\"background-color:#F28F79; margin-left:auto; margin-right:auto; width: 100%;\">Flujo Secuencial:</h3>\n",
    "\n",
    "- Implica ejecutar las instrucciones en orden, una tras otra.\n",
    "- Ejemplo:\n",
    " ```python\n",
    "    print(\"Inicio del programa\")\n",
    "    edad = 20\n",
    "    print(\"La edad es:\", edad)\n",
    "    print(\"Fin del programa\")\n",
    " ```\n",
    " "
   ]
  },
  {
   "cell_type": "markdown",
   "id": "6e782d16",
   "metadata": {
    "slideshow": {
     "slide_type": "slide"
    }
   },
   "source": [
    "<h3 style=\"background-color:#F22F1D; color:white; margin-left:auto; margin-right:auto; width: 100%;\">Estructuras Condicionales (if, elif, else):</h3>\n",
    "\n",
    "- Permiten ejecutar bloques de código dependiendo si una condición es verdadera o falsa. \n",
    "\n",
    " **Estructura `if`:**\n",
    "   - *Sintaxis:* \n",
    "   ```python\n",
    "    if condición:\n",
    "    ```\n",
    "   - *Función:* Ejecuta el bloque de código dentro del `if` si la condición es verdadera.\n",
    "   - *Ejemplo:*\n",
    "     ```python\n",
    "     edad = 20\n",
    "     if edad >= 18:\n",
    "         print(\"Eres mayor de edad.\")\n",
    "     ```\n",
    "\n",
    " **Estructura `elif`:**\n",
    "   - *Sintaxis:* \n",
    "   ```python\n",
    "        elif condición:\n",
    "   ```\n",
    "   - *Función:* Se utiliza para evaluar condiciones adicionales si la condición del `if` no se cumple.\n",
    "   - *Ejemplo:*\n",
    "     ```python\n",
    "     temperatura = 25\n",
    "     if temperatura > 30:\n",
    "         print(\"Hace mucho calor.\")\n",
    "     elif temperatura > 20:\n",
    "         print(\"La temperatura es agradable.\")\n",
    "     ```\n",
    "\n",
    " **Estructura `else`:**\n",
    "   - *Sintaxis:* \n",
    "   ```python\n",
    "        else:\n",
    "   ```\n",
    "   - *Función:* Proporciona un bloque de código que se ejecuta si ninguna de las condiciones anteriores es verdadera.\n",
    "   - *Ejemplo:*\n",
    "     ```python\n",
    "     edad = 15\n",
    "     if edad >= 18:\n",
    "         print(\"Eres mayor de edad.\")\n",
    "     else:\n",
    "         print(\"Eres menor de edad.\")\n",
    "     ```\n"
   ]
  },
  {
   "cell_type": "markdown",
   "id": "25501778",
   "metadata": {
    "slideshow": {
     "slide_type": "subslide"
    }
   },
   "source": [
    "## Ejemplos / Preguntas"
   ]
  },
  {
   "cell_type": "markdown",
   "id": "679e81f6",
   "metadata": {
    "slideshow": {
     "slide_type": "subslide"
    }
   },
   "source": [
    "**¿Cuál será la salida de este código?**\n",
    "   ```python\n",
    "    x = 10\n",
    "    if x > 5:\n",
    "        print(\"A\")\n",
    "    elif x < 15:\n",
    "        print(\"B\")\n",
    "    else:\n",
    "        print(\"C\")\n",
    "   ```"
   ]
  },
  {
   "cell_type": "code",
   "execution_count": null,
   "id": "199a78bb",
   "metadata": {},
   "outputs": [],
   "source": []
  },
  {
   "cell_type": "markdown",
   "id": "3ce71c9c",
   "metadata": {
    "slideshow": {
     "slide_type": "subslide"
    }
   },
   "source": [
    "**¿Cuál es el error y cómo se puede corregir?**\n",
    "   ```python\n",
    "   if x > 10\n",
    "       print(\"Mayor que 10\")\n",
    "   ```\n"
   ]
  },
  {
   "cell_type": "code",
   "execution_count": null,
   "id": "ef61bff7",
   "metadata": {},
   "outputs": [],
   "source": []
  },
  {
   "cell_type": "markdown",
   "id": "5f2a4a40",
   "metadata": {
    "slideshow": {
     "slide_type": "slide"
    }
   },
   "source": [
    "<h3 style=\"background-color:#A60303; color:white; margin-left:auto; margin-right:auto; width: 100%;\">Estructuras de Iteración/Ciclos (for, while):</h3>\n",
    "\n",
    "- Permiten repetir bloques de código mientras se cumpla una condición.\n",
    "\n",
    "1. **Ciclo `for`:**\n",
    "   - *Sintaxis:* \n",
    "   ```python \n",
    "        for variable in iterable:\n",
    "   ```\n",
    "   - *Función:* Obtiene los elementos de un iterable (como una lista) y ejecuta el bloque de código en cada iteración.\n",
    "   - *Ejemplo:*\n",
    "     ```python\n",
    "     frutas = [\"manzana\", \"banana\", \"cereza\"]\n",
    "     for fruta in frutas:\n",
    "         print(fruta)\n",
    "     ```\n",
    "\n",
    "2. **Ciclo `while`:**\n",
    "   - *Sintaxis:* \n",
    "   ```python\n",
    "        while condición:\n",
    "   ```\n",
    "   - *Función:* Ejecuta el bloque de código mientras la condición sea verdadera.\n",
    "   - *Ejemplo:*\n",
    "     ```python\n",
    "     contador = 0\n",
    "     while contador < 5:\n",
    "         print(contador)\n",
    "         contador += 1\n",
    "     ```"
   ]
  },
  {
   "cell_type": "markdown",
   "id": "2c08f648",
   "metadata": {
    "slideshow": {
     "slide_type": "subslide"
    }
   },
   "source": [
    "## Ejemplos / Preguntas"
   ]
  },
  {
   "cell_type": "markdown",
   "id": "52d01e6a",
   "metadata": {
    "slideshow": {
     "slide_type": "subslide"
    }
   },
   "source": [
    "**¿Qué valores imprimirá este ciclo?**\n",
    "   ```python\n",
    "   for i in range(2, 5):\n",
    "       print(i)\n",
    "   ```"
   ]
  },
  {
   "cell_type": "markdown",
   "id": "f8e1b72f",
   "metadata": {
    "slideshow": {
     "slide_type": "subslide"
    }
   },
   "source": [
    "**¿Cuál es el error y cómo se puede corregir?**\n",
    "   ```python\n",
    "   while True\n",
    "       print(\"Instrucción dentro de un ciclo\")\n",
    "   ```"
   ]
  },
  {
   "cell_type": "markdown",
   "id": "c855a86b",
   "metadata": {
    "slideshow": {
     "slide_type": "subslide"
    }
   },
   "source": [
    "**¿Qué diferencia hay entre `while` y `for` en términos de su comportamiento?**"
   ]
  },
  {
   "cell_type": "markdown",
   "id": "1940f4b0",
   "metadata": {
    "slideshow": {
     "slide_type": "subslide"
    }
   },
   "source": [
    "**¿Puedes modificar el ejemplo del bucle `for` para imprimir las frutas en mayúsculas?**\n",
    "\n",
    "```python\n",
    "frutas = [\"manzana\", \"banana\", \"cereza\"]\n",
    "for fruta in frutas:\n",
    "    print(fruta)\n",
    " ```\n"
   ]
  },
  {
   "cell_type": "markdown",
   "id": "a32a5564",
   "metadata": {
    "slideshow": {
     "slide_type": "slide"
    }
   },
   "source": [
    "## Funciones"
   ]
  },
  {
   "cell_type": "markdown",
   "id": "74e62399",
   "metadata": {
    "slideshow": {
     "slide_type": "subslide"
    }
   },
   "source": [
    "## Funciones definidas por el programador\n",
    "\n",
    "- Son bloques de código reutilizables diseñados para realizar una tarea específica. \n",
    "- Se definen utilizando la palabra clave `def` seguida del nombre de la función y paréntesis que pueden contener parámetros. \n",
    "- **Sintaxis:**\n",
    "\n",
    "```python\n",
    "def nombre_de_funcion(parametro1, parametro2, ...):\n",
    "    # Cuerpo de la función\n",
    "    # Realizar operaciones\n",
    "    return resultado  # Opcional, devuelve un valor\n",
    "```\n"
   ]
  },
  {
   "cell_type": "markdown",
   "id": "e4d4fde8",
   "metadata": {
    "slideshow": {
     "slide_type": "fragment"
    }
   },
   "source": [
    "**Ejemplos:**\n",
    "\n",
    "<h3 style=\"background-color:#AEE8CA; margin-left:auto; margin-right:auto; width: 100%;\">1. Función simple sin parámetros ni valor de retorno:</h3>\n",
    "\n",
    "```python\n",
    "def saludar():\n",
    "    print(\"¡Hola, mundo!\")\n",
    "\n",
    "saludar()  # Llamada a la función\n",
    "```\n",
    "\n",
    "<h3 style=\"background-color:#6ACFC9; margin-left:auto; margin-right:auto; width: 100%;\">2. Función con parámetros y valor de retorno:</h3>\n",
    "\n",
    "```python\n",
    "def suma(a, b):\n",
    "    resultado = a + b\n",
    "    return resultado\n",
    "\n",
    "resultado_suma = suma(3, 4)\n",
    "print(resultado_suma)\n",
    "```\n"
   ]
  },
  {
   "cell_type": "markdown",
   "id": "5239e9de",
   "metadata": {
    "slideshow": {
     "slide_type": "subslide"
    }
   },
   "source": [
    "## Ejemplos / Preguntas"
   ]
  },
  {
   "cell_type": "markdown",
   "id": "ff4542d3",
   "metadata": {
    "slideshow": {
     "slide_type": "subslide"
    }
   },
   "source": [
    "**¿Cómo creamos una función que tome dos números como parámetros y devuelva su multiplicación?**"
   ]
  },
  {
   "cell_type": "code",
   "execution_count": null,
   "id": "2c719d37",
   "metadata": {},
   "outputs": [],
   "source": []
  },
  {
   "cell_type": "markdown",
   "id": "618a2aed",
   "metadata": {
    "slideshow": {
     "slide_type": "subslide"
    }
   },
   "source": [
    "**¿Cómo diseñamos una función que determine si un número dado es par o impar?**"
   ]
  },
  {
   "cell_type": "code",
   "execution_count": null,
   "id": "9a979e0b",
   "metadata": {},
   "outputs": [],
   "source": []
  },
  {
   "cell_type": "markdown",
   "id": "8532b41a",
   "metadata": {
    "slideshow": {
     "slide_type": "subslide"
    }
   },
   "source": [
    "**Dado el siguiente código, ¿puedes identificar el error y corregirlo?**\n"
   ]
  },
  {
   "cell_type": "code",
   "execution_count": null,
   "id": "4298962b",
   "metadata": {},
   "outputs": [],
   "source": [
    "def cuadrado(x):\n",
    "    resultado = x * x\n",
    "    print(result)\n",
    "\n",
    "cuadrado(5)"
   ]
  },
  {
   "cell_type": "markdown",
   "id": "552221cb",
   "metadata": {
    "slideshow": {
     "slide_type": "subslide"
    }
   },
   "source": [
    "**Analiza el siguiente fragmento de código. ¿Cuál será la salida cuando se llame a la función imprimir_mensaje con el argumento \"Python\"?**"
   ]
  },
  {
   "cell_type": "code",
   "execution_count": null,
   "id": "ce93e3b1",
   "metadata": {},
   "outputs": [],
   "source": [
    "def imprimir_mensaje(nombre):\n",
    "    print(\"Hola, \" + nombre + \"!\")\n",
    "    \n",
    "imprimir_mensaje(\"Python\")"
   ]
  },
  {
   "cell_type": "markdown",
   "id": "5be2a650",
   "metadata": {
    "slideshow": {
     "slide_type": "subslide"
    }
   },
   "source": [
    "**Encuentra el error en la siguiente función que debería devolver el doble de un número.**"
   ]
  },
  {
   "cell_type": "code",
   "execution_count": null,
   "id": "4ec009d7",
   "metadata": {},
   "outputs": [],
   "source": [
    "def doble(numero)\n",
    "    resultado = 2 * numero\n",
    "    return resultado"
   ]
  },
  {
   "cell_type": "markdown",
   "id": "5aa1dae1",
   "metadata": {
    "slideshow": {
     "slide_type": "subslide"
    }
   },
   "source": [
    "**¿Cuál es la diferencia entre parámetros y argumentos en una función?**"
   ]
  },
  {
   "cell_type": "markdown",
   "id": "ed611b25",
   "metadata": {
    "slideshow": {
     "slide_type": "subslide"
    }
   },
   "source": [
    "**Define una función que reciba una lista y devuelva la suma de sus elementos.**"
   ]
  },
  {
   "cell_type": "markdown",
   "id": "a398a5a2",
   "metadata": {
    "slideshow": {
     "slide_type": "subslide"
    }
   },
   "source": [
    "**Escribe una función que calcule el factorial de un número.**"
   ]
  },
  {
   "cell_type": "code",
   "execution_count": null,
   "id": "dde2210b",
   "metadata": {},
   "outputs": [],
   "source": []
  },
  {
   "cell_type": "markdown",
   "id": "668013e0",
   "metadata": {
    "hideCode": true,
    "slideshow": {
     "slide_type": "slide"
    }
   },
   "source": [
    "## Estructura de un Programa\n",
    "\n",
    "<img src=\"imgs/estructura-programa.png\" alt=\"Estructura de un Programa en Python\" style=\"width:80%; margin-left:auto; margin-right:auto;\">\n"
   ]
  },
  {
   "cell_type": "markdown",
   "id": "b3bdc55c",
   "metadata": {
    "slideshow": {
     "slide_type": "fragment"
    }
   },
   "source": [
    "1. **Comentario:**\n",
    "   - Es una porción de texto que se incluye en el código pero que no afecta la ejecución del programa. \n",
    "   - Sirve para proporcionar explicaciones, aclaraciones o notas dentro del código, facilitando la comprensión del mismo.\n",
    "   \n",
    "   - **Ejemplo 1:**\n",
    "   \n",
    "   ```python\n",
    "   # Este es un comentario de una sola linea\n",
    "   ```\n",
    "   \n",
    "   - **Ejemplo 2 :** \n",
    "   \n",
    "   ```python\n",
    "   \"\"\" Este comentario\n",
    "   abarca más de una línea\n",
    "   \"\"\"\n",
    "   ```\n"
   ]
  },
  {
   "cell_type": "markdown",
   "id": "88fbfa35",
   "metadata": {
    "slideshow": {
     "slide_type": "fragment"
    }
   },
   "source": [
    "\n",
    "2. **Sentencia:**\n",
    "   - Es una instrucción que realiza una acción específica. Puede ser una asignación, una expresión, una instrucción de control de flujo (como `if`, `for`, `while`), entre otras.\n",
    "   \n",
    "   - **Ejemplo:** Sentencia de asignación.\n",
    "   \n",
    "   ```python\n",
    "   x = 10\n",
    "   ```\n",
    "\n"
   ]
  },
  {
   "cell_type": "markdown",
   "id": "e09da717",
   "metadata": {
    "slideshow": {
     "slide_type": "fragment"
    }
   },
   "source": [
    "3. **Indentación:**\n",
    "   - Se refiere a la sangría (espacios o tabulaciones al principio de una línea) que se utiliza para indicar la estructura del código. \n",
    "   - La indentación se utiliza en lugar de llaves u otros delimitadores y es crucial para definir bloques de código.\n",
    "   \n",
    "   - **Ejemplo:** \n",
    "     ```python\n",
    "     if x > 0:\n",
    "         print(f\"{x} es positivo\")\n",
    "     ```"
   ]
  },
  {
   "cell_type": "markdown",
   "id": "55d63677",
   "metadata": {
    "slideshow": {
     "slide_type": "fragment"
    }
   },
   "source": [
    "4. **Función y llamada a función:**\n",
    "   - **Función:**\n",
    "     - Es un bloque de código reutilizable que realiza una tarea específica. Puede aceptar parámetros y devolver un valor.\n",
    "     \n",
    "     - **Ejemplo:** \n",
    "       ```python\n",
    "       def suma(a, b):\n",
    "           return a + b\n",
    "       ```\n",
    "   - **Llamada a función:**\n",
    "     - Es el acto de ejecutar o invocar una función previamente definida. Se realiza indicando el nombre de la función seguido de paréntesis que pueden contener argumentos.\n",
    "     - **Ejemplo:** \n",
    "     `resultado = suma(3, 5)` \n",
    "     invoca la función `suma` con argumentos `3` y `5`.\n"
   ]
  },
  {
   "cell_type": "markdown",
   "id": "5a852b41",
   "metadata": {
    "slideshow": {
     "slide_type": "fragment"
    }
   },
   "source": [
    "5. **Expresión:**\n",
    "   - Es una combinación de valores, variables, operadores y llamadas a funciones que da como resultado un valor. Puede ser utilizada en asignaciones, impresiones, cálculos, etc.\n",
    "   \n",
    "   - **Ejemplo:** `3 + 5` es una expresión que evalúa a `8`."
   ]
  },
  {
   "cell_type": "markdown",
   "id": "d98bf9d5",
   "metadata": {
    "slideshow": {
     "slide_type": "fragment"
    }
   },
   "source": [
    "6. **Bloque:**\n",
    "   - Es un conjunto de sentencias o expresiones que están agrupadas y forman una unidad lógica. La indentación se utiliza para definir bloques.\n",
    "   - **Ejemplo:** \n",
    "     ```python\n",
    "     if x > 0:\n",
    "         print(\"x es positivo\")\n",
    "         resultado = x * 2\n",
    "         print(\"El doble de x es:\", resultado)\n",
    "     ```\n"
   ]
  },
  {
   "cell_type": "markdown",
   "id": "5fa7a94a",
   "metadata": {
    "slideshow": {
     "slide_type": "slide"
    }
   },
   "source": [
    "## Ejercicios\n"
   ]
  },
  {
   "cell_type": "markdown",
   "id": "6e723077",
   "metadata": {
    "slideshow": {
     "slide_type": "subslide"
    }
   },
   "source": [
    "**Dos gatos y un ratón**\n",
    "\n",
    "- Dos gatos y un ratón se encuentran en varias posiciones sobre una línea. \n",
    "- Como valor de entrada, solicita al usuario sus posiciones iniciales. \n",
    "- Tu tarea es determinar cuál gato alcanzará al ratón primero, asumiendo que el ratón no se mueve y ambos gatos se mueven a la misma velocidad.\n",
    "\n",
    "- OJO: Si ambos gatos llegan al mismo tiempo, el ratón podrá escapar mientras que los dos gatos pelean.\n",
    "\n",
    "    *Entrada*\n",
    "    \n",
    "    Solicita como valores de entrada tres enteros, los cuales representan respectivamente las posiciones del gato $A$, del gato $B$ y del ratón $C$. Puedes suponer que $1\\leq A, B, C\\leq 100$.\n",
    "    \n",
    "    *Salida*\n",
    "    - Si el gato A alcanza primero al ratón, imprime como salida \"gato A\".\n",
    "    - Si el gato B alcanza primero al ratón, imprime como salida \"gato B\".\n",
    "    - Si ambos gatos alcanzan al ratón C al mismo tiempo, imprimir como salida \"raton C\".\n",
    "\n",
    " *Ejemplos* \n",
    "    \n",
    "| Entrada | Salida |\n",
    "|---------|--------|\n",
    "| 1 2 3   | gato B |\n",
    "| 1 3 2   | raton C|\n",
    "| 4 8 10  | gato B |\n",
    "| 8 3 12  | gato A |"
   ]
  },
  {
   "cell_type": "markdown",
   "id": "0327ebd1",
   "metadata": {
    "slideshow": {
     "slide_type": "subslide"
    }
   },
   "source": [
    "**Una sumatoria muy extraña**\n",
    "\n",
    "- Escribe un programa que evalúe el valor de $\\sum_{i=m}^{n}$ donde:\n",
    "$$\n",
    "\\begin{eqnarray}\n",
    "m &=& \\sum_{i=1}^{a} i \\\\\n",
    "n &=& \\sum_{i=1}^{b} i\n",
    "\\end{eqnarray}\n",
    "$$\n",
    "  *Entrada*\n",
    "    - Solicita como valores de entrada dos enteros $a$ y $b$. Puedes suponer que $1\\leq a\\leq b \\leq 100$\n",
    "\n",
    "  *Salida*\n",
    "    - Un entero que sea el valor de la fórmula evaluada.\n",
    "\n",
    "  *Ejemplo* \n",
    "    \n",
    "| Entrada | Salida |\n",
    "|---------|--------|\n",
    "| 3 5     | 105    |\n"
   ]
  },
  {
   "cell_type": "markdown",
   "id": "b70fcfe2",
   "metadata": {
    "slideshow": {
     "slide_type": "subslide"
    }
   },
   "source": [
    "**Una serie poco interesante**\n",
    "- La serie numérica 1,2,3,1,2,3,1... es infinita pero no por eso deja de ser bastante aburrida. \n",
    "- Por ejemplo, es fácil darnos cuenta que después de un 1 siempre sigue un 2 y que antes de un 1 siempre hay un 3. \n",
    "- Si N es el número actual de la serie, ¿podrás adivinar qué números están P posiciones antes y después de N?\n",
    "\n",
    "  *Entrada*\n",
    "- Solicita como valores de entrada dos enteros $N$ y $P$. Puedes suponer que $1\\leq N\\leq3$ y $0\\leq P\\leq10^9$.\n",
    "\n",
    "  *Salida*\n",
    "- Dos enteros separados por un espacio donde el primero sea el número que está $P$ posiciones antes de $N$ y el segundo el que está $P$ posiciones después.\n",
    "\n",
    "  *Ejemplo*\n",
    "  \n",
    "  | Entrada | Salida |\n",
    "  |---------|--------|\n",
    "  | 2 1     | 1 3    |\n",
    "  | 2 0     | 2 2    |\n",
    "  | 1 2     | 2 3    |\n",
    "  "
   ]
  },
  {
   "cell_type": "markdown",
   "id": "2b02ed75",
   "metadata": {
    "slideshow": {
     "slide_type": "skip"
    }
   },
   "source": [
    "## Referencias \n",
    "\n",
    "**Título:** Computer Science with Python. (2020)  \n",
    "**Autor:** Preeti Arora  \n",
    "**Link:** [Computer Science with Python](https://www.ggpschas.org/images/homework/week-2-computer-science-1060.pdf)  \n",
    "\n",
    "---\n",
    "\n",
    "**Título:** Stanford CS224N Python Review.  \n",
    "**Autor:** Stanford University\n",
    "<br>**Link:** [Stanford CS224N Python Review](https://web.stanford.edu/class/cs224n/readings/cs224n-python-review.pdf)\n",
    "\n",
    "---\n",
    "\n",
    "**Ejercicio 1:** Dos gatos y un ratón  \n",
    "**Link:** [Dos gatos y un ratón](https://omegaup.com/arena/problem/Dos-gatos-y-un-raton/)\n",
    "\n",
    "**Ejercicio 2:** Una sumatoria muy extraña \n",
    "<br>**Link:** [Una sumatoria muy extraña](https://omegaup.com/arena/problem/Sumatoria-de-sumatorias/)\n",
    "\n",
    "**Ejercicio 3:** Una serie poco interesante  \n",
    "**Link:** [Una serie poco interesante](https://omegaup.com/arena/problem/Una-serie-poco-interesante/)\n"
   ]
  },
  {
   "cell_type": "code",
   "execution_count": 7,
   "id": "1457074f",
   "metadata": {
    "hideCode": true,
    "hideOutput": true,
    "hidePrompt": true,
    "slideshow": {
     "slide_type": "skip"
    }
   },
   "outputs": [
    {
     "name": "stdout",
     "output_type": "stream",
     "text": [
      "C:\\Users\\alvaradocde\\Documents\\2024\\ibero\\programacion-aplicada-II\\clases\\clase02_repaso-python.html\n"
     ]
    }
   ],
   "source": [
    "import os\n",
    "from pyhtml2pdf import converter\n",
    "\n",
    "path = os.path.abspath('clase02_repaso-python.html')\n",
    "print(path)\n",
    "converter.convert(f'file:///{path}', 'clase02_repaso-python.pdf')"
   ]
  }
 ],
 "metadata": {
  "celltoolbar": "Slideshow",
  "kernelspec": {
   "display_name": "Python 3 (ipykernel)",
   "language": "python",
   "name": "python3"
  },
  "language_info": {
   "codemirror_mode": {
    "name": "ipython",
    "version": 3
   },
   "file_extension": ".py",
   "mimetype": "text/x-python",
   "name": "python",
   "nbconvert_exporter": "python",
   "pygments_lexer": "ipython3",
   "version": "3.11.5"
  },
  "livereveal": {
   "autolaunch": true,
   "enable_chalkboard": true,
   "scroll": true
  }
 },
 "nbformat": 4,
 "nbformat_minor": 5
}
