{
 "cells": [
  {
   "cell_type": "markdown",
   "id": "1525ff23",
   "metadata": {
    "slideshow": {
     "slide_type": "slide"
    }
   },
   "source": [
    "# Programación Aplicada II\n",
    "## Clase 02: Repaso de Python\n",
    "### Primavera 2024\n",
    "\n",
    "#### Dra. Dora Alvarado\n",
    "* 27382@iberoleon.edu.mx \n",
    "* doraelisa.alvaradocarrillo@iberoleon.edu.mx\n",
    "\n"
   ]
  },
  {
   "cell_type": "markdown",
   "id": "8f37e327",
   "metadata": {
    "slideshow": {
     "slide_type": "slide"
    }
   },
   "source": [
    "## Contenido\n",
    "\n",
    "- ¿Por qué Python?\n",
    "- Configuración\n",
    "    - Versión\n",
    "    - Instalación\n",
    "    - Entorno de Desarrollo\n",
    "- Lo básico de Python\n",
    "    - Variables y tipos de datos\n",
    "    - Operadores\n",
    "    - Entrada y salidad de datos\n",
    "    - Estructura condicional\n",
    "    - Ciclos\n",
    "    - Estructura de un programa\n",
    "- Ejercicios\n"
   ]
  },
  {
   "cell_type": "markdown",
   "id": "04302318",
   "metadata": {
    "slideshow": {
     "slide_type": "slide"
    }
   },
   "source": [
    "## ¿Por qué Python?"
   ]
  },
  {
   "cell_type": "markdown",
   "id": "eb1463c6",
   "metadata": {
    "slideshow": {
     "slide_type": "subslide"
    }
   },
   "source": [
    "- Respuesta informal: \n"
   ]
  },
  {
   "cell_type": "code",
   "execution_count": 11,
   "id": "a1711148",
   "metadata": {
    "hideCode": true,
    "hidePrompt": true
   },
   "outputs": [
    {
     "data": {
      "text/html": [
       "<blockquote class=\"twitter-tweet\" data-media-max-width=\"600\"><p lang=\"en\" dir=\"ltr\">Simplicity of <a href=\"https://twitter.com/hashtag/python?src=hash&amp;ref_src=twsrc%5Etfw\">#python</a> <a href=\"https://t.co/mrZi6u7bEK\">pic.twitter.com/mrZi6u7bEK</a></p>&mdash; Rajeev Sharma  (@rajeev_inr) <a href=\"https://twitter.com/rajeev_inr/status/1740681973801300169?ref_src=twsrc%5Etfw\">December 29, 2023</a></blockquote> <script async src=\"https://platform.twitter.com/widgets.js\" charset=\"utf-8\"></script>\n"
      ],
      "text/plain": [
       "<IPython.core.display.HTML object>"
      ]
     },
     "metadata": {},
     "output_type": "display_data"
    }
   ],
   "source": [
    "\n",
    "%%html\n",
    "<blockquote class=\"twitter-tweet\" data-media-max-width=\"600\"><p lang=\"en\" dir=\"ltr\">Simplicity of <a href=\"https://twitter.com/hashtag/python?src=hash&amp;ref_src=twsrc%5Etfw\">#python</a> <a href=\"https://t.co/mrZi6u7bEK\">pic.twitter.com/mrZi6u7bEK</a></p>&mdash; Rajeev Sharma  (@rajeev_inr) <a href=\"https://twitter.com/rajeev_inr/status/1740681973801300169?ref_src=twsrc%5Etfw\">December 29, 2023</a></blockquote> <script async src=\"https://platform.twitter.com/widgets.js\" charset=\"utf-8\"></script>"
   ]
  },
  {
   "cell_type": "markdown",
   "id": "919e8f98",
   "metadata": {
    "slideshow": {
     "slide_type": "subslide"
    }
   },
   "source": [
    "- Respuesta *ligeramente* más formal: "
   ]
  },
  {
   "cell_type": "code",
   "execution_count": 12,
   "id": "1857572f",
   "metadata": {
    "hideCode": true,
    "hidePrompt": true,
    "slideshow": {
     "slide_type": "-"
    }
   },
   "outputs": [
    {
     "data": {
      "text/html": [
       "<iframe width=\"800\" height=\"600\" src=\"https://www.youtube.com/embed/vv1VyEwvC6c?si=wr-zY4QORcwF9zOV\" frameborder=\"0\" allowfullscreen></iframe>\n"
      ],
      "text/plain": [
       "<IPython.core.display.HTML object>"
      ]
     },
     "metadata": {},
     "output_type": "display_data"
    }
   ],
   "source": [
    "\n",
    "%%html\n",
    "<iframe width=\"800\" height=\"600\" src=\"https://www.youtube.com/embed/vv1VyEwvC6c?si=wr-zY4QORcwF9zOV\" frameborder=\"0\" allowfullscreen></iframe>"
   ]
  },
  {
   "cell_type": "markdown",
   "id": "a96bd4b1",
   "metadata": {
    "slideshow": {
     "slide_type": "subslide"
    }
   },
   "source": [
    "\n",
    "<img src=\"https://www.megatrend.com/wp-content/uploads/2022/03/Slika1_usporedba_sintakse-1.png\" alt=\"Comparación de Sintaxis, imagen tomada del sitio megatrend.com\" style=\"width:80%; margin-left:auto; margin-right:auto;\">\n",
    "\n",
    "*Imagen obtenida de [megratrend.com](https://www.megatrend.com/wp-content/uploads/2022/03/Slika1_usporedba_sintakse-1.png)*"
   ]
  },
  {
   "cell_type": "markdown",
   "id": "585692a3",
   "metadata": {
    "slideshow": {
     "slide_type": "subslide"
    }
   },
   "source": [
    "<img src=\"https://cdn.hackr.io/uploads/posts/attachments/1691659103EqrCAr4xSr.webp\" alt=\"Aplicaciones de Python, imagen tomada del sitio hackr.io\" style=\"width:80%; margin-left:auto; margin-right:auto;\">\n",
    "\n",
    "*Imagen obtenida de [cdn.hackr.io](https://cdn.hackr.io/uploads/posts/attachments/1691659103EqrCAr4xSr.webp)*\n"
   ]
  },
  {
   "cell_type": "markdown",
   "id": "4e69e9ec",
   "metadata": {
    "slideshow": {
     "slide_type": "slide"
    }
   },
   "source": [
    "## ¿Por qué Python?\n",
    "\n",
    "- Es muy versátil, y bastante popular en los últimos años. \n",
    "- Es muy sencillo de utilizar y fácil de aprender (en comparación con otros lenguajes). \n",
    "- Es utilizado para cómputo científico y como una herramienta de enseñanza en muchos cursos universitarios. \n"
   ]
  },
  {
   "cell_type": "markdown",
   "id": "43dee226",
   "metadata": {
    "slideshow": {
     "slide_type": "slide"
    }
   },
   "source": [
    "## Configuración\n",
    "\n"
   ]
  },
  {
   "cell_type": "markdown",
   "id": "70495e18",
   "metadata": {
    "slideshow": {
     "slide_type": "subslide"
    }
   },
   "source": [
    "## Versión\n",
    "\n",
    "- Utilizaremos Python 3.x, que ya debe estar instalado en las computadoras de esta aula a través de Anaconda (por favor verifiquen en sus computadoras que pueden iniciar la aplicación Anaconda Navigator).\n"
   ]
  },
  {
   "cell_type": "markdown",
   "id": "ae010081",
   "metadata": {
    "slideshow": {
     "slide_type": "subslide"
    }
   },
   "source": [
    "## Instalación\n",
    "\n",
    "- Aunque una gran parte del trabajo del curso será realizada durante la hora de la clase, es **muy recomendable que instalen Python en sus computadoras personales**, pues hay tareas y proyectos para realizar en casa. \n",
    "\n",
    "- Una manera fácil de realizar la instalación es usar el gestor de paquetes/entornos virtuales de Python **Anaconda**:\n",
    "    - Descargar y ejecutar el instalador de: [https://www.anaconda.com/download/](https://www.anaconda.com/download/)\n",
    "    - Disponible para Windows, Linux, MacOS\n",
    "    - Puede crear y manejar diferentes ambientes virtuales. \n",
    "    \n",
    "    \n",
    "   "
   ]
  },
  {
   "cell_type": "markdown",
   "id": "8228ebb2",
   "metadata": {
    "slideshow": {
     "slide_type": "slide"
    }
   },
   "source": [
    "## Entornos de Desarrollo\n",
    "\n",
    "- **Recordatorio**: Un entorno de desarrollo (IDE, Integrated Development Environment) es una herramienta que proporciona un conjunto integrado de características para facilitar la creación, prueba y depuración de software. \n",
    "- Para Python, algunos IDEs populares son **PyCharm, Spyder y Visual Studio Code**. Cada estudiante es libre de seleccionar su IDE preferido, los ejercicios y tareas se entregaran en archivos con extensión *.py*. \n",
    "- **Para los ejemplos de clase se utilizará Spyder o el IDE disponible en ese momento.** \n"
   ]
  },
  {
   "cell_type": "markdown",
   "id": "c3cb0605",
   "metadata": {
    "slideshow": {
     "slide_type": "slide"
    }
   },
   "source": [
    "<h3 style=\"background-color:#DFFF00; margin-left:auto; margin-right:auto; width: 100%;\">TUTORIALES:</h3>\n",
    "\n",
    "- [Instala Anaconda en Windows 11 (o Mac o Linux)](https://youtu.be/qKg4kkiICJE?si=4P4ARtsOP0FA8clS)\n",
    "\n",
    "- [Instalar PyCharm con PyCharm](https://youtu.be/roTSOa4s5gA?si=8efcqGt9rFNKi443)\n",
    "\n",
    "- [Instalar Python con Spyder](https://youtu.be/Gt68rsTvonc?si=cJkay2adkK2QLkr5)\n",
    "\n",
    "- [Instalar Python con VSCode](https://youtu.be/WcWiHtbX8jY?si=x2jObKradABzajId)\n",
    "    \n",
    "<h3 style=\"background-color:#DFFF00; margin-left:auto; margin-right:auto; width: 100%;\">DATO COMPLEMENTARIO:</h3>\n",
    "\n",
    "- Un **entorno (o ambiente) virtual de Python** es una herramienta que ayuda a gestionar las dependencias y las versiones de los paquetes de Python para un proyecto específico. \n",
    "- En lugar de instalar paquetes de Python directamente en el sistema global de Python, puedes **crear entornos virtuales separados para cada proyecto**. \n",
    "- Cada entorno virtual tiene su propio directorio de instalación de paquetes y su propio intérprete de Python, lo que permite que **los proyectos tengan dependencias específicas sin interferir entre sí**."
   ]
  },
  {
   "cell_type": "markdown",
   "id": "7d898f98",
   "metadata": {
    "slideshow": {
     "slide_type": "slide"
    }
   },
   "source": [
    "## Lo básico de Python\n"
   ]
  },
  {
   "cell_type": "markdown",
   "id": "7b90084f",
   "metadata": {
    "slideshow": {
     "slide_type": "slide"
    }
   },
   "source": [
    "## Variable\n",
    "\n",
    "<h3 style=\"background-color:#AEE8CA; margin-left:auto; margin-right:auto; width: 100%;\">Definición:</h3>\n",
    "\n",
    "- Es un espacio de almacenamiento nombrado que contiene un valor. \n",
    "- Se utiliza para representar información que puede cambiar durante la ejecución del programa.\n"
   ]
  },
  {
   "cell_type": "markdown",
   "id": "e14db9d0",
   "metadata": {
    "slideshow": {
     "slide_type": "fragment"
    }
   },
   "source": [
    "<h3 style=\"background-color:#6ACFC9; margin-left:auto; margin-right:auto; width: 100%;\">Componentes</h3>\n",
    "\n",
    "- **Identificador:** Es el nombre dado a la variable para referirse a ella en el código.\n",
    "- **Valor:** Es el contenido almacenado en la variable, que puede ser de diversos tipos.\n",
    "- **Tipo:** Define la naturaleza del dato que la variable puede almacenar (e.g., entero, flotante, cadena, booleano).\n"
   ]
  },
  {
   "cell_type": "markdown",
   "id": "bbff7c86",
   "metadata": {
    "slideshow": {
     "slide_type": "fragment"
    }
   },
   "source": [
    "<h3 style=\"background-color:#26B6C6; margin-left:auto; margin-right:auto; width: 100%;\">Tipos de datos</h3>\n",
    "\n",
    "- **Tipos de datos numéricos:**\n",
    "    - **int:** números enteros.\n",
    "    - **float:** números de punto flotante.\n",
    "    - **bool:** valores booleanos (True o False).\n",
    "- **Tipos de datos de secuencia:**\n",
    "    - **Listas:** Colección mutable y ordenada de elementos.\n",
    "    - **Tuplas:** Colección inmutable y ordenada de elementos.\n",
    "    - **Cadenas:** Secuencia inmutable de caracteres.\n",
    "- **Tipos de datos de mapeo:**\n",
    "     - **Diccionarios:** Colección no ordenada de pares clave-valor.\n",
    "- **None:**\n",
    "     - Es un valor especial en Python que representa la ausencia de un valor o un objeto nulo.\n"
   ]
  },
  {
   "cell_type": "markdown",
   "id": "1c9027cb",
   "metadata": {
    "slideshow": {
     "slide_type": "subslide"
    }
   },
   "source": [
    "## Ejemplos / Preguntas"
   ]
  },
  {
   "cell_type": "markdown",
   "id": "764147cf",
   "metadata": {
    "slideshow": {
     "slide_type": "subslide"
    }
   },
   "source": [
    "**¿Qué tipo de variable es?**\n",
    "\n",
    "```python\n",
    "nombre = \"Juan\"\n",
    "```\n"
   ]
  },
  {
   "cell_type": "markdown",
   "id": "5af8a71f",
   "metadata": {
    "slideshow": {
     "slide_type": "subslide"
    }
   },
   "source": [
    "**¿Qué tipo de variable es?**\n",
    "\n",
    "```python\n",
    "es_mayor_de_edad = True\n",
    "```"
   ]
  },
  {
   "cell_type": "markdown",
   "id": "89d0a7a9",
   "metadata": {
    "slideshow": {
     "slide_type": "subslide"
    }
   },
   "source": [
    "**¿Qué tipo de variable es?**\n",
    "```python\n",
    "precio = 45.99\n",
    "```"
   ]
  },
  {
   "cell_type": "markdown",
   "id": "1bcf0b77",
   "metadata": {
    "slideshow": {
     "slide_type": "subslide"
    }
   },
   "source": [
    "**¿Qué tipo de variable es?**\n",
    "```python\n",
    "numeros = [1, 2, 3, 4, 5]\n",
    "```"
   ]
  },
  {
   "cell_type": "markdown",
   "id": "b7016c2e",
   "metadata": {
    "slideshow": {
     "slide_type": "fragment"
    }
   },
   "source": [
    "**¿Cómo imprimirías el tercer elemento de la lista `numeros`?**"
   ]
  },
  {
   "cell_type": "code",
   "execution_count": null,
   "id": "aefcc450",
   "metadata": {},
   "outputs": [],
   "source": []
  },
  {
   "cell_type": "markdown",
   "id": "3182600f",
   "metadata": {
    "slideshow": {
     "slide_type": "fragment"
    }
   },
   "source": [
    "**¿Cómo se podría modificar el contenido de la lista `numeros`?**"
   ]
  },
  {
   "cell_type": "code",
   "execution_count": null,
   "id": "18f9da8d",
   "metadata": {},
   "outputs": [],
   "source": []
  },
  {
   "cell_type": "markdown",
   "id": "1b3c728a",
   "metadata": {
    "slideshow": {
     "slide_type": "subslide"
    }
   },
   "source": [
    "**¿Qué tipo de variable es?**\n",
    "```python\n",
    "estudiantes = {\"001\": \"Ana\", \"002\": \"Carlos\"}\n",
    "```"
   ]
  },
  {
   "cell_type": "markdown",
   "id": "08986c92",
   "metadata": {
    "slideshow": {
     "slide_type": "fragment"
    }
   },
   "source": [
    "**¿Qué error podrías encontrar al intentar acceder a una clave que no existe en un diccionario?**"
   ]
  },
  {
   "cell_type": "code",
   "execution_count": null,
   "id": "08994ed4",
   "metadata": {},
   "outputs": [],
   "source": []
  },
  {
   "cell_type": "markdown",
   "id": "ab5c5eab",
   "metadata": {
    "slideshow": {
     "slide_type": "subslide"
    }
   },
   "source": [
    "**¿Qué tipo de variable es?**\n",
    "```python\n",
    "edad = 25\n",
    "```"
   ]
  },
  {
   "cell_type": "markdown",
   "id": "fe7fe4e5",
   "metadata": {
    "slideshow": {
     "slide_type": "fragment"
    }
   },
   "source": [
    "**¿Qué sucede si intentas sumar un número entero con una cadena?**"
   ]
  },
  {
   "cell_type": "code",
   "execution_count": null,
   "id": "19274f9c",
   "metadata": {},
   "outputs": [],
   "source": []
  },
  {
   "cell_type": "markdown",
   "id": "89f5d0ec",
   "metadata": {
    "slideshow": {
     "slide_type": "subslide"
    }
   },
   "source": [
    "**¿Qué tipo de variable es?**\n",
    "```python\n",
    "valor = None\n",
    "```"
   ]
  },
  {
   "cell_type": "markdown",
   "id": "735cbbde",
   "metadata": {
    "slideshow": {
     "slide_type": "fragment"
    }
   },
   "source": [
    "**¿Cómo puedes comprobar si una variable contiene un valor nulo en Python?**"
   ]
  },
  {
   "cell_type": "code",
   "execution_count": null,
   "id": "164f8e07",
   "metadata": {},
   "outputs": [],
   "source": []
  },
  {
   "cell_type": "markdown",
   "id": "cfe200a0",
   "metadata": {
    "slideshow": {
     "slide_type": "subslide"
    }
   },
   "source": [
    "**¿Qué tipo de variable es?**\n",
    "```python\n",
    "colores = (\"rojo\", \"verde\", \"azul\")\n",
    "```"
   ]
  },
  {
   "cell_type": "markdown",
   "id": "1562fd27",
   "metadata": {
    "slideshow": {
     "slide_type": "fragment"
    }
   },
   "source": [
    "**¿Qué ocurre si intentas modificar una tupla después de haberla creado?**"
   ]
  },
  {
   "cell_type": "code",
   "execution_count": null,
   "id": "f500878f",
   "metadata": {},
   "outputs": [],
   "source": []
  },
  {
   "cell_type": "markdown",
   "id": "1628774a",
   "metadata": {
    "slideshow": {
     "slide_type": "slide"
    }
   },
   "source": [
    "## Operadores\n",
    "\n",
    "<h3 style=\"background-color:#85A0F2; margin-left:auto; margin-right:auto; width: 100%;\">Definición:</h3>\n",
    "\n",
    "   - Son símbolos especiales que realizan operaciones en uno o más operandos. Los operandos pueden ser variables, valores o expresiones.\n"
   ]
  },
  {
   "cell_type": "markdown",
   "id": "6fe49f94",
   "metadata": {
    "slideshow": {
     "slide_type": "fragment"
    }
   },
   "source": [
    "<h3 style=\"background-color:#B6C5F2; margin-left:auto; margin-right:auto; width: 100%;\">Tipos de Operadores:</h3>\n",
    "\n",
    " - **Aritméticos:** Realizan operaciones matemáticas.\n",
    "   - `+` (suma), `-` (resta), `*` (multiplicación), `/` (división), `//` (división entera), `%` (módulo o residuo), `**` (exponenciación).\n",
    "   \n",
    "   - Ejemplos:\n",
    "   ```python\n",
    "    a = 10\n",
    "    b = 3\n",
    "    suma = a + b\n",
    "    resta = a - b\n",
    "    multiplicacion = a * b\n",
    "    division = a / b\n",
    "    division_entera = a // b\n",
    "    modulo = a % b\n",
    "    exponenciacion = a ** b\n",
    "    ```"
   ]
  },
  {
   "cell_type": "markdown",
   "id": "a4708646",
   "metadata": {
    "slideshow": {
     "slide_type": "fragment"
    }
   },
   "source": [
    " - **De Asignación:** Asignan valores a variables.\n",
    "   - `=` (asignación simple), `+=` (suma y asignación), `-=` (resta y asignación), `*=` (multiplicación y asignación), `/=` (división y asignación), `//=` (división entera y asignación), `%=`(módulo y asignación), `**=`(exponenciación y asignación).\n",
    "   - Ejemplo:\n",
    "   ```python\n",
    "   x = 5\n",
    "   x += 3  # Equivalente a x = x + 3\n",
    "   ```"
   ]
  },
  {
   "cell_type": "markdown",
   "id": "128b3da1",
   "metadata": {
    "slideshow": {
     "slide_type": "fragment"
    }
   },
   "source": [
    " - **Relacionales:** Comparan valores y devuelven un resultado booleano.\n",
    "   - `==` (igual a), `!=` (no igual a), `<` (menor que), `>` (mayor que), `<=` (menor o igual a), `>=` (mayor o igual a).\n",
    "   - Ejemplo:\n",
    "   ```python\n",
    "   a = 10\n",
    "   b = 3\n",
    "   resultado = (a > b)  # True, ya que 10 es mayor que 3\n",
    "   ```"
   ]
  },
  {
   "cell_type": "markdown",
   "id": "5c049e40",
   "metadata": {
    "slideshow": {
     "slide_type": "fragment"
    }
   },
   "source": [
    " - **Lógicos:** Realizan operaciones lógicas en valores booleanos.\n",
    "   - `and` (y lógico), `or` (o lógico), `not` (no lógico).\n",
    "   - Ejemplos:\n",
    "   ```python\n",
    "    a = 10\n",
    "    b = 3\n",
    "    condicion1 = (a > b) and (b != 0)  # True, ambas condiciones son verdaderas\n",
    "    condicion2 = (a < b) or (b == 0)   # False, ninguna condición es verdadera\n",
    "   ```"
   ]
  },
  {
   "cell_type": "markdown",
   "id": "627c3bc9",
   "metadata": {
    "slideshow": {
     "slide_type": "fragment"
    }
   },
   "source": [
    " - **De Membresía:** Verifican si un valor está presente en una secuencia.\n",
    "   - `in` (está en), `not in` (no está en).\n",
    "   - Ejemplos:\n",
    "   ```python\n",
    "    lista = [1, 2, 3, 4, 5]\n",
    "    pertenece = 3 in lista  # True, ya que 3 está en la lista\n",
    "    no_pertenece = 6 not in lista  # True, ya que 6 no está en la lista\n",
    "   ```"
   ]
  },
  {
   "cell_type": "markdown",
   "id": "4a8e3c05",
   "metadata": {
    "slideshow": {
     "slide_type": "fragment"
    }
   },
   "source": [
    " - **De Identidad:** Verifican si dos variables se refieren al mismo objeto en la memoria.\n",
    "   - `is` (es), `is not` (no es).\n",
    "   - Ejemplos:\n",
    "   ```python\n",
    "    a = [1, 2, 3]\n",
    "    b = a  # b ahora apunta al mismo objeto que a\n",
    "    c = [1, 2, 3]  # un nuevo objeto con el mismo contenido que a\n",
    "\n",
    "    print(a is b)  # True, ya que b apunta al mismo objeto que a\n",
    "    print(a is c)  # False, ya que c es un objeto diferente con el mismo contenido que a\n",
    "    print(a is not c)  # True, ya que a y c no apuntan al mismo objeto\n",
    "   ```"
   ]
  },
  {
   "cell_type": "markdown",
   "id": "759392b2",
   "metadata": {
    "slideshow": {
     "slide_type": "subslide"
    }
   },
   "source": [
    "## Ejemplos / Preguntas"
   ]
  },
  {
   "cell_type": "markdown",
   "id": "747e2732",
   "metadata": {
    "slideshow": {
     "slide_type": "subslide"
    }
   },
   "source": [
    "\n",
    "**¿Cuál es la diferencia entre `=` y `==`?**"
   ]
  },
  {
   "cell_type": "markdown",
   "id": "de48a6e6",
   "metadata": {
    "slideshow": {
     "slide_type": "subslide"
    }
   },
   "source": [
    "**Sin usar calculadora ni Python, ¿Cuál es el resultado de la expresión `(5 + 3) * 2 / 4`?**"
   ]
  },
  {
   "cell_type": "code",
   "execution_count": null,
   "id": "d96f7d8d",
   "metadata": {},
   "outputs": [],
   "source": []
  },
  {
   "cell_type": "markdown",
   "id": "d3355d69",
   "metadata": {
    "slideshow": {
     "slide_type": "subslide"
    }
   },
   "source": [
    "**Dado el código `x += 2`, ¿cuál es el valor final de la variable `x` si su valor inicial es 7?**"
   ]
  },
  {
   "cell_type": "code",
   "execution_count": null,
   "id": "ffb8e94d",
   "metadata": {},
   "outputs": [],
   "source": []
  },
  {
   "cell_type": "markdown",
   "id": "68928d4a",
   "metadata": {
    "slideshow": {
     "slide_type": "fragment"
    }
   },
   "source": [
    "**¿Cómo podrías verificar si un número es par utilizando operadores relacionales y aritméticos?**\n"
   ]
  },
  {
   "cell_type": "code",
   "execution_count": null,
   "id": "650cd313",
   "metadata": {},
   "outputs": [],
   "source": []
  },
  {
   "cell_type": "markdown",
   "id": "3c7cc276",
   "metadata": {
    "slideshow": {
     "slide_type": "subslide"
    }
   },
   "source": [
    "**Si tienes una lista `numeros = [1, 2, 3, 4, 5]`, ¿cómo verificarías si el número 6 está presente en la lista?**"
   ]
  },
  {
   "cell_type": "code",
   "execution_count": null,
   "id": "c56763b5",
   "metadata": {},
   "outputs": [],
   "source": []
  },
  {
   "cell_type": "markdown",
   "id": "6e0462d3",
   "metadata": {
    "slideshow": {
     "slide_type": "subslide"
    }
   },
   "source": [
    "**¿Cómo utilizarías el operador ` ** ` para calcular la raíz cuadrada de un número?**"
   ]
  },
  {
   "cell_type": "code",
   "execution_count": null,
   "id": "f060ee84",
   "metadata": {},
   "outputs": [],
   "source": []
  },
  {
   "cell_type": "markdown",
   "id": "0244750a",
   "metadata": {
    "slideshow": {
     "slide_type": "subslide"
    }
   },
   "source": [
    "**¿Qué sucede si intentas realizar una división entre cero en Python?**"
   ]
  },
  {
   "cell_type": "code",
   "execution_count": null,
   "id": "cb7e8a32",
   "metadata": {},
   "outputs": [],
   "source": []
  },
  {
   "cell_type": "markdown",
   "id": "90d03d6f",
   "metadata": {
    "slideshow": {
     "slide_type": "subslide"
    }
   },
   "source": [
    "**Dado un diccionario `persona = {\"nombre\": \"Juan\", \"edad\": 25}`, ¿cómo verificarías si la clave \"edad\" está presente?**"
   ]
  },
  {
   "cell_type": "markdown",
   "id": "a800ba59",
   "metadata": {
    "slideshow": {
     "slide_type": "subslide"
    }
   },
   "source": [
    "**¿Cuál es la diferencia entre `is` y `==`?**"
   ]
  },
  {
   "cell_type": "markdown",
   "id": "deef491f",
   "metadata": {
    "slideshow": {
     "slide_type": "slide"
    }
   },
   "source": [
    "## Estructura condicial if-elif-else"
   ]
  },
  {
   "cell_type": "markdown",
   "id": "aa149f4c",
   "metadata": {
    "slideshow": {
     "slide_type": "slide"
    }
   },
   "source": [
    "## Entrada y salida de datos\n"
   ]
  },
  {
   "cell_type": "markdown",
   "id": "5c692f91",
   "metadata": {
    "slideshow": {
     "slide_type": "subslide"
    }
   },
   "source": [
    "## Entrada y salida de Datos\n",
    "\n",
    "<h3 style=\"background-color:#E1F25C; margin-left:auto; margin-right:auto; width: 100%;\">Entrada de Datos</h3>\n",
    "    \n",
    "- La función `input()` se utiliza para obtener datos desde la entrada estándar (generalmente el teclado) y asignarlos a variables. \n",
    "- La entrada se toma como una cadena (`str`), por lo que a menudo es necesario convertirla al tipo de dato adecuado.\n",
    "- Ejemplo:\n",
    "   ```python\n",
    "    nombre = input(\"Ingrese su nombre: \")\n",
    "    edad = int(input(\"Ingrese su edad: \"))  # Convertir la entrada a entero\n",
    "   ```"
   ]
  },
  {
   "cell_type": "markdown",
   "id": "003f2fb9",
   "metadata": {
    "slideshow": {
     "slide_type": "fragment"
    }
   },
   "source": [
    "<h3 style=\"background-color:#9FC131; margin-left:auto; margin-right:auto; width: 100%;\">Conversión de Tipos</h3>\n",
    "- La conversión de tipos, o type casting, se refiere a cambiar el tipo de dato de una variable a otro. Por ejemplo, convertir una cadena a un entero o viceversa.\n",
    "- Ejemplos:\n",
    "\n",
    "```python\n",
    "    edad = 25\n",
    "    edad_str = str(edad)  # Convertir entero a cadena\n",
    "```"
   ]
  },
  {
   "cell_type": "markdown",
   "id": "f2728bdb",
   "metadata": {
    "slideshow": {
     "slide_type": "fragment"
    }
   },
   "source": [
    "<h3 style=\"background-color:#DBF227; margin-left:auto; margin-right:auto; width: 100%;\">Salida de Datos</h3>\n",
    "\n",
    "- La función `print()` se utiliza para mostrar información en la salida estándar (generalmente la consola). \n",
    "- Puede imprimir valores de variables, texto y realizar formateo básico.\n",
    "- Ejemplo: \n",
    "```python\n",
    "    nombre = \"Juan\"\n",
    "    edad = 30\n",
    "    print(\"Nombre:\", nombre, \"Edad:\", edad)\n",
    "```"
   ]
  },
  {
   "cell_type": "markdown",
   "id": "266f83af",
   "metadata": {
    "slideshow": {
     "slide_type": "subslide"
    }
   },
   "source": [
    "## Ejemplos / Preguntas"
   ]
  },
  {
   "cell_type": "markdown",
   "id": "63ccd132",
   "metadata": {
    "slideshow": {
     "slide_type": "subslide"
    }
   },
   "source": [
    "**¿Cuál será la salida si el usuario ingresa \"3\"?**\n",
    "   ```python\n",
    "    x = input(\"Ingrese un número: \")\n",
    "    y = x * 2\n",
    "    print(y)\n",
    "   ```\n"
   ]
  },
  {
   "cell_type": "code",
   "execution_count": null,
   "id": "fa27d135",
   "metadata": {},
   "outputs": [],
   "source": []
  },
  {
   "cell_type": "markdown",
   "id": "9523dcbb",
   "metadata": {
    "slideshow": {
     "slide_type": "subslide"
    }
   },
   "source": [
    "**¿Cuál será la salida de este código?**\n",
    "   ```python\n",
    "    a = \"5\"\n",
    "    b = int(a) + 2\n",
    "    c = str(b)\n",
    "    print(a + c)\n",
    "   ``` "
   ]
  },
  {
   "cell_type": "code",
   "execution_count": null,
   "id": "57d505e4",
   "metadata": {},
   "outputs": [],
   "source": []
  },
  {
   "cell_type": "markdown",
   "id": "faddfd09",
   "metadata": {
    "slideshow": {
     "slide_type": "subslide"
    }
   },
   "source": [
    "**¿Qué tipo de error obtendrías al intentar ejecutar este código?**\n",
    "   ```python\n",
    "   num_str = \"abc\"\n",
    "   num_int = int(num_str)\n",
    "   ```"
   ]
  },
  {
   "cell_type": "code",
   "execution_count": null,
   "id": "97535564",
   "metadata": {},
   "outputs": [],
   "source": []
  },
  {
   "cell_type": "markdown",
   "id": "2ebc7b09",
   "metadata": {
    "slideshow": {
     "slide_type": "subslide"
    }
   },
   "source": [
    "**¿Cuál será el error en este código y cómo lo corregirías?**\n",
    "   ```python\n",
    "   edad = 25\n",
    "   print(\"Mi edad es: \" + edad)\n",
    "   ```"
   ]
  },
  {
   "cell_type": "code",
   "execution_count": null,
   "id": "b50163ac",
   "metadata": {},
   "outputs": [],
   "source": []
  },
  {
   "cell_type": "markdown",
   "id": "5bed98f4",
   "metadata": {
    "slideshow": {
     "slide_type": "slide"
    }
   },
   "source": [
    "## Flujo de ejecución "
   ]
  },
  {
   "cell_type": "markdown",
   "id": "3df0492c",
   "metadata": {
    "slideshow": {
     "slide_type": "slide"
    }
   },
   "source": [
    "<h3 style=\"background-color:#F28F79; margin-left:auto; margin-right:auto; width: 100%;\">Flujo Secuencial:</h3>\n",
    "\n",
    "- Implica ejecutar las instrucciones en orden, una tras otra.\n",
    "- Ejemplo:\n",
    " ```python\n",
    "   print(\"Inicio del programa\")\n",
    "   edad = 20\n",
    "   print(\"La edad es:\", edad)\n",
    "   print(\"Fin del programa\")\n",
    " ```\n",
    " "
   ]
  },
  {
   "cell_type": "markdown",
   "id": "3de8ab0c",
   "metadata": {
    "slideshow": {
     "slide_type": "slide"
    }
   },
   "source": [
    "<h3 style=\"background-color:#F22F1D; color:white; margin-left:auto; margin-right:auto; width: 100%;\">Estructuras Condicionales (if, elif, else):</h3>\n",
    "\n",
    "- Permiten ejecutar bloques de código dependiendo si una condición es verdadera o falsa. \n",
    "\n",
    " **Estructura `if`:**\n",
    "   - *Sintaxis:* \n",
    "   ```python\n",
    "    if condición:\n",
    "    ```\n",
    "   - *Función:* Ejecuta el bloque de código dentro del `if` si la condición es verdadera.\n",
    "   - *Ejemplo:*\n",
    "     ```python\n",
    "     edad = 20\n",
    "     if edad >= 18:\n",
    "         print(\"Eres mayor de edad.\")\n",
    "     ```\n",
    "\n",
    " **Estructura `elif`:**\n",
    "   - *Sintaxis:* \n",
    "   ```python\n",
    "        elif condición:\n",
    "   ```\n",
    "   - *Función:* Se utiliza para evaluar condiciones adicionales si la condición del `if` no se cumple.\n",
    "   - *Ejemplo:*\n",
    "     ```python\n",
    "     temperatura = 25\n",
    "     if temperatura > 30:\n",
    "         print(\"Hace mucho calor.\")\n",
    "     elif temperatura > 20:\n",
    "         print(\"La temperatura es agradable.\")\n",
    "     ```\n",
    "\n",
    " **Estructura `else`:**\n",
    "   - *Sintaxis:* \n",
    "   ```python\n",
    "        else:\n",
    "   ```\n",
    "   - *Función:* Proporciona un bloque de código que se ejecuta si ninguna de las condiciones anteriores es verdadera.\n",
    "   - *Ejemplo:*\n",
    "     ```python\n",
    "     edad = 15\n",
    "     if edad >= 18:\n",
    "         print(\"Eres mayor de edad.\")\n",
    "     else:\n",
    "         print(\"Eres menor de edad.\")\n",
    "     ```\n"
   ]
  },
  {
   "cell_type": "markdown",
   "id": "5fc6875e",
   "metadata": {
    "slideshow": {
     "slide_type": "subslide"
    }
   },
   "source": [
    "## Ejemplos / Preguntas"
   ]
  },
  {
   "cell_type": "markdown",
   "id": "939b39fd",
   "metadata": {
    "slideshow": {
     "slide_type": "subslide"
    }
   },
   "source": [
    "**¿Cuál será la salida de este código?**\n",
    "   ```python\n",
    "    x = 10\n",
    "    if x > 5:\n",
    "        print(\"A\")\n",
    "    elif x < 15:\n",
    "        print(\"B\")\n",
    "    else:\n",
    "        print(\"C\")\n",
    "   ```"
   ]
  },
  {
   "cell_type": "code",
   "execution_count": null,
   "id": "0bb99a85",
   "metadata": {},
   "outputs": [],
   "source": []
  },
  {
   "cell_type": "markdown",
   "id": "8c0edbb7",
   "metadata": {
    "slideshow": {
     "slide_type": "subslide"
    }
   },
   "source": [
    "**¿Cuál es el error y cómo se puede corregir?**\n",
    "   ```python\n",
    "   if x > 10\n",
    "       print(\"Mayor que 10\")\n",
    "   ```\n"
   ]
  },
  {
   "cell_type": "code",
   "execution_count": null,
   "id": "4271f8f0",
   "metadata": {},
   "outputs": [],
   "source": []
  },
  {
   "cell_type": "markdown",
   "id": "a44b3bdb",
   "metadata": {
    "slideshow": {
     "slide_type": "slide"
    }
   },
   "source": [
    "<h3 style=\"background-color:#A60303; color:white; margin-left:auto; margin-right:auto; width: 100%;\">Estructuras de Iteración/Ciclos (for, while):</h3>\n",
    "\n",
    "- Permiten repetir bloques de código mientras se cumpla una condición.\n",
    "\n",
    "1. **Ciclo `for`:**\n",
    "   - *Sintaxis:* \n",
    "   ```python \n",
    "        for variable in iterable:\n",
    "   ```\n",
    "   - *Función:* Obtiene los elementos de un iterable (como una lista) y ejecuta el bloque de código en cada iteración.\n",
    "   - *Ejemplo:*\n",
    "     ```python\n",
    "     frutas = [\"manzana\", \"banana\", \"cereza\"]\n",
    "     for fruta in frutas:\n",
    "         print(fruta)\n",
    "     ```\n",
    "\n",
    "2. **Ciclo `while`:**\n",
    "   - *Sintaxis:* \n",
    "   ```python\n",
    "        while condición:\n",
    "   ```\n",
    "   - *Función:* Ejecuta el bloque de código mientras la condición sea verdadera.\n",
    "   - *Ejemplo:*\n",
    "     ```python\n",
    "     contador = 0\n",
    "     while contador < 5:\n",
    "         print(contador)\n",
    "         contador += 1\n",
    "     ```"
   ]
  },
  {
   "cell_type": "markdown",
   "id": "f0fc3904",
   "metadata": {
    "slideshow": {
     "slide_type": "subslide"
    }
   },
   "source": [
    "## Ejemplos / Preguntas"
   ]
  },
  {
   "cell_type": "markdown",
   "id": "f78086ec",
   "metadata": {
    "slideshow": {
     "slide_type": "subslide"
    }
   },
   "source": [
    "**¿Qué valores imprimirá este ciclo?**\n",
    "   ```python\n",
    "   for i in range(2, 5):\n",
    "       print(i)\n",
    "   ```"
   ]
  },
  {
   "cell_type": "markdown",
   "id": "e0f3cfe0",
   "metadata": {
    "slideshow": {
     "slide_type": "subslide"
    }
   },
   "source": [
    "**¿Cuál es el error y cómo se puede corregir?**\n",
    "   ```python\n",
    "   while True\n",
    "       print(\"Instrucción dentro de un ciclo\")\n",
    "   ```"
   ]
  },
  {
   "cell_type": "markdown",
   "id": "646ca516",
   "metadata": {
    "slideshow": {
     "slide_type": "subslide"
    }
   },
   "source": [
    "**¿Qué diferencia hay entre `while` y `for` en términos de su comportamiento?**"
   ]
  },
  {
   "cell_type": "markdown",
   "id": "e2209d62",
   "metadata": {
    "slideshow": {
     "slide_type": "subslide"
    }
   },
   "source": [
    "**¿Puedes modificar el ejemplo del bucle `for` para imprimir las frutas en mayúsculas?**\n",
    "\n",
    "```python\n",
    "frutas = [\"manzana\", \"banana\", \"cereza\"]\n",
    "for fruta in frutas:\n",
    "    print(fruta)\n",
    " ```\n"
   ]
  },
  {
   "cell_type": "markdown",
   "id": "c47773e8",
   "metadata": {
    "hideCode": true,
    "slideshow": {
     "slide_type": "slide"
    }
   },
   "source": [
    "## Estructura de un Programa\n",
    "\n",
    "<img src=\"imgs/estructura-programa.png\" alt=\"Estructura de un Programa en Python\" style=\"width:80%; margin-left:auto; margin-right:auto;\">\n"
   ]
  },
  {
   "cell_type": "markdown",
   "id": "6d67f0e2",
   "metadata": {
    "slideshow": {
     "slide_type": "fragment"
    }
   },
   "source": [
    "1. **Comentario:**\n",
    "   - Es una porción de texto que se incluye en el código pero que no afecta la ejecución del programa. \n",
    "   - Sirve para proporcionar explicaciones, aclaraciones o notas dentro del código, facilitando la comprensión del mismo.\n",
    "   \n",
    "   - **Ejemplo 1:**\n",
    "   \n",
    "   ```python\n",
    "   # Este es un comentario de una sola linea\n",
    "   ```\n",
    "   \n",
    "   - **Ejemplo 2 :** \n",
    "   \n",
    "   ```python\n",
    "   \"\"\" Este comentario\n",
    "   abarca más de una línea\n",
    "   \"\"\"\n",
    "   ```\n"
   ]
  },
  {
   "cell_type": "markdown",
   "id": "3f90a2e6",
   "metadata": {
    "slideshow": {
     "slide_type": "fragment"
    }
   },
   "source": [
    "\n",
    "2. **Sentencia:**\n",
    "   - Es una instrucción que realiza una acción específica. Puede ser una asignación, una expresión, una instrucción de control de flujo (como `if`, `for`, `while`), entre otras.\n",
    "   \n",
    "   - **Ejemplo:** Sentencia de asignación.\n",
    "   \n",
    "   ```python\n",
    "   x = 10\n",
    "   ```\n",
    "\n"
   ]
  },
  {
   "cell_type": "markdown",
   "id": "2876b955",
   "metadata": {
    "slideshow": {
     "slide_type": "fragment"
    }
   },
   "source": [
    "3. **Indentación:**\n",
    "   - Se refiere a la sangría (espacios o tabulaciones al principio de una línea) que se utiliza para indicar la estructura del código. \n",
    "   - La indentación se utiliza en lugar de llaves u otros delimitadores y es crucial para definir bloques de código.\n",
    "   \n",
    "   - **Ejemplo:** \n",
    "     ```python\n",
    "     if x > 0:\n",
    "         print(f\"{x} es positivo\")\n",
    "     ```"
   ]
  },
  {
   "cell_type": "markdown",
   "id": "5c0dd601",
   "metadata": {
    "slideshow": {
     "slide_type": "fragment"
    }
   },
   "source": [
    "4. **Función y llamada a función:**\n",
    "   - **Función:**\n",
    "     - Es un bloque de código reutilizable que realiza una tarea específica. Puede aceptar parámetros y devolver un valor.\n",
    "     \n",
    "     - **Ejemplo:** \n",
    "       ```python\n",
    "       def suma(a, b):\n",
    "           return a + b\n",
    "       ```\n",
    "   - **Llamada a función:**\n",
    "     - Es el acto de ejecutar o invocar una función previamente definida. Se realiza indicando el nombre de la función seguido de paréntesis que pueden contener argumentos.\n",
    "     - **Ejemplo:** \n",
    "     `resultado = suma(3, 5)` \n",
    "     invoca la función `suma` con argumentos `3` y `5`.\n"
   ]
  },
  {
   "cell_type": "markdown",
   "id": "2cb351ff",
   "metadata": {
    "slideshow": {
     "slide_type": "fragment"
    }
   },
   "source": [
    "5. **Expresión:**\n",
    "   - Es una combinación de valores, variables, operadores y llamadas a funciones que da como resultado un valor. Puede ser utilizada en asignaciones, impresiones, cálculos, etc.\n",
    "   \n",
    "   - **Ejemplo:** `3 + 5` es una expresión que evalúa a `8`."
   ]
  },
  {
   "cell_type": "markdown",
   "id": "66c828f1",
   "metadata": {
    "slideshow": {
     "slide_type": "fragment"
    }
   },
   "source": [
    "6. **Bloque:**\n",
    "   - Es un conjunto de sentencias o expresiones que están agrupadas y forman una unidad lógica. La indentación se utiliza para definir bloques.\n",
    "   - **Ejemplo:** \n",
    "     ```python\n",
    "     if x > 0:\n",
    "         print(\"x es positivo\")\n",
    "         resultado = x * 2\n",
    "         print(\"El doble de x es:\", resultado)\n",
    "     ```\n"
   ]
  },
  {
   "cell_type": "markdown",
   "id": "165ddfe0",
   "metadata": {
    "slideshow": {
     "slide_type": "slide"
    }
   },
   "source": [
    "## Ejercicios\n"
   ]
  },
  {
   "cell_type": "markdown",
   "id": "9f2f3db7",
   "metadata": {
    "slideshow": {
     "slide_type": "subslide"
    }
   },
   "source": [
    "**Dos gatos y un ratón**\n",
    "\n",
    "- Dos gatos y un ratón se encuentran en varias posiciones sobre una línea. \n",
    "- Como valor de entrada, solicita al usuario sus posiciones iniciales. \n",
    "- Tu tarea es determinar cuál gato alcanzará al ratón primero, asumiendo que el ratón no se mueve y ambos gatos se mueven a la misma velocidad.\n",
    "\n",
    "- OJO: Si ambos gatos llegan al mismo tiempo, el ratón podrá escapar mientras que los dos gatos pelean.\n",
    "\n",
    "    *Entrada*\n",
    "    \n",
    "    Solicita como valores de entrada tres enteros, los cuales representan respectivamente las posiciones del gato $A$, del gato $B$ y del ratón $C$. Puedes suponer que $1\\leq A, B, C\\leq 100$.\n",
    "    \n",
    "    *Salida*\n",
    "    - Si el gato A alcanza primero al ratón, imprime como salida \"gato A\".\n",
    "    - Si el gato B alcanza primero al ratón, imprime como salida \"gato B\".\n",
    "    - Si ambos gatos alcanzan al ratón C al mismo tiempo, imprimir como salida \"raton C\".\n",
    "\n",
    " *Ejemplos* \n",
    "    \n",
    "| Entrada | Salida |\n",
    "|---------|--------|\n",
    "| 1 2 3   | gato B |\n",
    "| 1 3 2   | raton C|\n",
    "| 4 8 10  | gato B |\n",
    "| 8 3 12  | gato A |"
   ]
  },
  {
   "cell_type": "markdown",
   "id": "3d723420",
   "metadata": {
    "slideshow": {
     "slide_type": "subslide"
    }
   },
   "source": [
    "**Una sumatoria muy extraña**\n",
    "\n",
    "- Escribe un programa que evalúe el valor de $\\sum_{i=m}^{n}$ donde:\n",
    "$$\n",
    "\\begin{eqnarray}\n",
    "m &=& \\sum_{i=1}^{a} i \\\\\n",
    "n &=& \\sum_{i=1}^{b} i\n",
    "\\end{eqnarray}\n",
    "$$\n",
    "  *Entrada*\n",
    "    - Solicita como valores de entrada dos enteros $a$ y $b$. Puedes suponer que $1\\leq a\\leq b \\leq 100$\n",
    "\n",
    "  *Salida*\n",
    "    - Un entero que sea el valor de la fórmula evaluada.\n",
    "\n",
    "  *Ejemplo* \n",
    "    \n",
    "| Entrada | Salida |\n",
    "|---------|--------|\n",
    "| 3 5     | 105    |\n"
   ]
  },
  {
   "cell_type": "markdown",
   "id": "ec8fdc09",
   "metadata": {
    "slideshow": {
     "slide_type": "subslide"
    }
   },
   "source": [
    "**Una serie poco interesante**\n",
    "- La serie numérica 1,2,3,1,2,3,1... es infinita pero no por eso deja de ser bastante aburrida. \n",
    "- Por ejemplo, es fácil darnos cuenta que después de un 1 siempre sigue un 2 y que antes de un 1 siempre hay un 3. \n",
    "- Si N es el número actual de la serie, ¿podrás adivinar qué números están P posiciones antes y después de N?\n",
    "\n",
    "  *Entrada*\n",
    "- Solicita como valores de entrada dos enteros $N$ y $P$. Puedes suponer que $1\\leq N\\leq3$ y $0\\leq P\\leq10^9$.\n",
    "\n",
    "  *Salida*\n",
    "- Dos enteros separados por un espacio donde el primero sea el número que está $P$ posiciones antes de $N$ y el segundo el que está $P$ posiciones después.\n",
    "\n",
    "  *Ejemplo*\n",
    "  \n",
    "  | Entrada | Salida |\n",
    "  |---------|--------|\n",
    "  | 2 1     | 1 3    |\n",
    "  | 2 0     | 2 2    |\n",
    "  | 1 2     | 2 3    |\n",
    "  \n",
    "  "
   ]
  },
  {
   "cell_type": "markdown",
   "id": "786d4913",
   "metadata": {
    "slideshow": {
     "slide_type": "skip"
    }
   },
   "source": [
    "## Referencias \n",
    "\n",
    "**Título:** Computer Science with Python. (2020)  \n",
    "**Autor:** Preeti Arora  \n",
    "**Link:** [Computer Science with Python](https://www.ggpschas.org/images/homework/week-2-computer-science-1060.pdf)  \n",
    "\n",
    "---\n",
    "\n",
    "**Título:** Stanford CS224N Python Review.  \n",
    "**Autor:** Stanford University\n",
    "<br>**Link:** [Stanford CS224N Python Review](https://web.stanford.edu/class/cs224n/readings/cs224n-python-review.pdf)\n",
    "\n",
    "---\n",
    "\n",
    "**Ejercicio 1:** Dos gatos y un ratón  \n",
    "**Link:** [Dos gatos y un ratón](https://omegaup.com/arena/problem/Dos-gatos-y-un-raton/)\n",
    "\n",
    "**Ejercicio 2:** Una sumatoria muy extraña \n",
    "<br>**Link:** [Una sumatoria muy extraña](https://omegaup.com/arena/problem/Sumatoria-de-sumatorias/)\n",
    "\n",
    "**Ejercicio 3:** Una serie poco interesante  \n",
    "**Link:** [Una serie poco interesante](https://omegaup.com/arena/problem/Una-serie-poco-interesante/)\n"
   ]
  }
 ],
 "metadata": {
  "celltoolbar": "Slideshow",
  "kernelspec": {
   "display_name": "Python 3 (ipykernel)",
   "language": "python",
   "name": "python3"
  },
  "language_info": {
   "codemirror_mode": {
    "name": "ipython",
    "version": 3
   },
   "file_extension": ".py",
   "mimetype": "text/x-python",
   "name": "python",
   "nbconvert_exporter": "python",
   "pygments_lexer": "ipython3",
   "version": "3.11.5"
  }
 },
 "nbformat": 4,
 "nbformat_minor": 5
}
