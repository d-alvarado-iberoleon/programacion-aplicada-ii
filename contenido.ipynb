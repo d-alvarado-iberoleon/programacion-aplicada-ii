{
 "cells": [
  {
   "cell_type": "markdown",
   "id": "1525ff23",
   "metadata": {
    "slideshow": {
     "slide_type": "slide"
    }
   },
   "source": [
    "# Programación Aplicada II\n",
    "### Primavera 2024\n",
    "\n",
    "#### Dra. Dora Alvarado\n",
    "* 27382@iberoleon.edu.mx \n",
    "* doraelisa.alvaradocarrillo@iberoleon.edu.mx\n",
    "\n"
   ]
  },
  {
   "cell_type": "markdown",
   "id": "b2bc5071",
   "metadata": {},
   "source": [
    "## Clases Disponibles\n",
    "\n",
    "1. [Clase 1: Logística del Curso](https://mybinder.org/v2/gh/d-alvarado-iberoleon/programacion-aplicada-ii/0c980b537b33b130dccac69236816591ebe5640c?filepath=clases%2Fclase01_logistica-curso.ipynb)\n",
    "2. [Clase 2: Repaso de Python](https://mybinder.org/v2/gh/d-alvarado-iberoleon/programacion-aplicada-ii/0c980b537b33b130dccac69236816591ebe5640c?filepath=clases%2Fclase02_repaso-python.ipynb)\n",
    "3. [Clase 3: Clases, objetos, constructores](https://mybinder.org/v2/gh/d-alvarado-iberoleon/programacion-aplicada-ii/ecc08dc7aaf3616bdfee1d4160ea9c07ac8c4f8b?filepath=clases%2Fclase03_clases-objetos-constructores.ipynb)"
   ]
  }
 ],
 "metadata": {
  "kernelspec": {
   "display_name": "Python 3 (ipykernel)",
   "language": "python",
   "name": "python3"
  },
  "language_info": {
   "codemirror_mode": {
    "name": "ipython",
    "version": 3
   },
   "file_extension": ".py",
   "mimetype": "text/x-python",
   "name": "python",
   "nbconvert_exporter": "python",
   "pygments_lexer": "ipython3",
   "version": "3.11.5"
  }
 },
 "nbformat": 4,
 "nbformat_minor": 5
}
